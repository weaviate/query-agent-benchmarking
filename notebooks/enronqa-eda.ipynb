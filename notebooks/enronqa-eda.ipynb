{
 "cells": [
  {
   "cell_type": "code",
   "execution_count": 3,
   "metadata": {},
   "outputs": [],
   "source": [
    "from datasets import load_dataset\n",
    "\n",
    "questions = load_dataset(\"weaviate/enron-qa-questions-dasovich-j\")"
   ]
  },
  {
   "cell_type": "code",
   "execution_count": 4,
   "metadata": {},
   "outputs": [
    {
     "data": {
      "text/plain": [
       "{'dataset_id': 0,\n",
       " 'question': \"How does the California PUC's decision impact Enron's clients in different ways, and what specific challenges does each of the three groups of clients face as a result of the decision?\"}"
      ]
     },
     "execution_count": 4,
     "metadata": {},
     "output_type": "execute_result"
    }
   ],
   "source": [
    "questions[\"train\"][0]"
   ]
  },
  {
   "cell_type": "code",
   "execution_count": 5,
   "metadata": {},
   "outputs": [],
   "source": [
    "emails = load_dataset(\"weaviate/enron-qa-emails-dasovich-j\")"
   ]
  },
  {
   "cell_type": "code",
   "execution_count": 6,
   "metadata": {},
   "outputs": [
    {
     "data": {
      "text/plain": [
       "{'dataset_id': 0,\n",
       " 'email_body': \"Subject: Re: Intention to Challenge the California's PUC's Decision to\\nSender: jeremy.blachman@enron.com\\nRecipients: ['jeff.dasovich@enron.com']\\nFile: dasovich-j/inbox/276.\\n=====================================\\nWe must go after this. I need some specific direction with exactly what you would like us to have our clients do. I see this as breaking our market down into the following as each are effected a bit differently:\\n\\n- a specific alignment with the contracts we signed in August\\n- those clients we are marketing to, and can't sign a new contract due to the suspension\\n- existing clients whom we are risk with if there are ANY restrictions on extensions\\n\\nSuggest that we set-up a call on Mon or Tues. Would like myself, Angela Schwarz, Lamar Frazier, David Cox, Gayle Muench and Michael Mann in attendance\\n=====================================\"}"
      ]
     },
     "execution_count": 6,
     "metadata": {},
     "output_type": "execute_result"
    }
   ],
   "source": [
    "emails[\"train\"][0]"
   ]
  }
 ],
 "metadata": {
  "kernelspec": {
   "display_name": "Python 3",
   "language": "python",
   "name": "python3"
  },
  "language_info": {
   "codemirror_mode": {
    "name": "ipython",
    "version": 3
   },
   "file_extension": ".py",
   "mimetype": "text/x-python",
   "name": "python",
   "nbconvert_exporter": "python",
   "pygments_lexer": "ipython3",
   "version": "3.10.10"
  }
 },
 "nbformat": 4,
 "nbformat_minor": 2
}
