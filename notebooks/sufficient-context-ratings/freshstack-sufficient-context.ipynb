{
 "cells": [
  {
   "cell_type": "markdown",
   "metadata": {},
   "source": [
    "# Sufficient Context Ratings for the FreshStack Angular benchmark"
   ]
  },
  {
   "cell_type": "markdown",
   "metadata": {},
   "source": [
    "Paper link: https://arxiv.org/abs/2411.06037"
   ]
  },
  {
   "cell_type": "code",
   "execution_count": 2,
   "metadata": {},
   "outputs": [],
   "source": [
    "from datasets import load_dataset\n",
    "\n",
    "def _in_memory_dataset_loader_freshstack(subset: str):\n",
    "    docs = _load_dataset_from_hf_hub(filepath=\"freshstack/corpus-oct-2024\", subset=subset)\n",
    "    for doc in docs:\n",
    "        doc['dataset_id'] = doc.pop('_id')\n",
    "    questions = _load_dataset_from_hf_hub(\n",
    "        filepath=\"freshstack/queries-oct-2024\", \n",
    "        subset=subset, \n",
    "        train=False\n",
    "    )\n",
    "\n",
    "    for question in questions:\n",
    "        all_relevant_ids = []\n",
    "        nugget_data = []\n",
    "        ids_per_nugget = {}\n",
    "        \n",
    "        for i, nugget in enumerate(question.get('nuggets', [])):\n",
    "            nugget_id = f\"{question['query_id']}_nugget_{i}\"\n",
    "            nugget_text = nugget['text']\n",
    "            relevant_corpus_ids = nugget['relevant_corpus_ids']\n",
    "            \n",
    "            nugget_info = {\n",
    "                'nugget_id': nugget_id,\n",
    "                'text': nugget_text,\n",
    "                'relevant_corpus_ids': relevant_corpus_ids\n",
    "            }\n",
    "            nugget_data.append(nugget_info)\n",
    "            all_relevant_ids.extend(relevant_corpus_ids)\n",
    "            \n",
    "            ids_per_nugget[nugget_text] = relevant_corpus_ids\n",
    "        \n",
    "        unique_relevant_ids = list(dict.fromkeys(all_relevant_ids))\n",
    "        \n",
    "        question['dataset_ids'] = unique_relevant_ids\n",
    "        question['ids_per_nugget'] = ids_per_nugget\n",
    "        question['nugget_data'] = nugget_data\n",
    "        question['num_nuggets'] = len(nugget_data)\n",
    "        question[\"question\"] = question[\"query_text\"]\n",
    "    \n",
    "    return docs, questions\n",
    "\n",
    "def _load_dataset_from_hf_hub(filepath, subset=None, train=True):\n",
    "    ds = load_dataset(filepath, subset)\n",
    "    if train:\n",
    "        train_dataset = ds[\"train\"]\n",
    "    else:\n",
    "        train_dataset = ds[\"test\"]\n",
    "    \n",
    "    dataset_dicts = []\n",
    "    for item in train_dataset:\n",
    "        dataset_dicts.append(dict(item))\n",
    "    \n",
    "    return dataset_dicts"
   ]
  },
  {
   "cell_type": "code",
   "execution_count": 3,
   "metadata": {},
   "outputs": [],
   "source": [
    "angular_docs, angular_questions = _in_memory_dataset_loader_freshstack(subset=\"angular\")"
   ]
  },
  {
   "cell_type": "code",
   "execution_count": 4,
   "metadata": {},
   "outputs": [
    {
     "data": {
      "text/plain": [
       "{'text': '# Contributor Covenant Code of Conduct\\n\\n## Our Pledge\\n\\nIn the interest of fostering a safe and welcoming environment, we as\\nthe Angular team pledge to make participation in our project and\\nour community a harassment-free experience for everyone, regardless of age, body\\nsize, disability, ethnicity, sex characteristics, gender identity, gender expression,\\nlevel of experience, education, socio-economic status, nationality, personal\\nappearance, race, religion, or sexual identity and orientation.\\n\\n## Our Standards\\n\\nExamples of behavior that contributes to creating a positive environment\\ninclude:\\n\\n* Use welcoming and inclusive language\\n* Respect each other\\n* Provide and gracefully accept constructive criticism\\n* Show empathy towards other community members\\n\\nExamples of unacceptable behavior by participants include:\\n\\n* Trolling, insulting/derogatory comments, and personal or political attacks\\n* Public or private harassment\\n* Publishing others\\' private information, such as a physical or electronic\\n  address, without explicit permission\\n* The use of sexualized language or imagery\\n* Unwelcome sexual attention or advances\\n* Other conduct which could reasonably be considered inappropriate in a\\n  professional setting\\n\\n## Our Responsibilities\\n\\nAngular team are responsible for clarifying the standards of acceptable\\nbehavior and are expected to take appropriate and fair corrective action in\\nresponse to any instances of unacceptable behavior.\\n\\nAngular team have the right and responsibility to remove, edit, or\\nreject comments, commits, code, wiki edits, issues, and other contributions\\nthat are not aligned to this Code of Conduct, and to ban temporarily or\\npermanently any contributor for other behaviors that they deem inappropriate,\\nthreatening, offensive, or harmful.\\n\\n## Scope\\n\\nThis Code of Conduct applies to all Angular communication channels - online or in person,\\nand it also applies when an individual is representing the project or its community in\\npublic spaces. Examples of representing a project or community include using an official\\nproject e-mail address, posting via an official social media account, or acting\\nas an appointed representative at an online or offline event. Representation of\\na project may be further defined and clarified by project maintainers.\\n\\n## Enforcement\\n\\nInstances of abusive, harassing, or otherwise unacceptable behavior may be\\nreported by contacting the Angular team at conduct@angular.io. All\\ncomplaints will be reviewed and investigated and will result in a response that\\nis deemed necessary and appropriate to the circumstances. The Angular team\\nwill maintain confidentiality with regard to the reporter of an incident.\\nEnforcement may result in an indefinite ban from all official Angular communication\\nchannels, or other actions as deemed appropriate by the Angular team.\\n\\nAngular maintainers who do not follow or enforce the Code of Conduct in good\\nfaith may face temporary or permanent repercussions as determined by other\\nmembers of the project\\'s leadership.\\n\\n### Appeal\\n\\nIf you are banned you may contest the decision. To do so email conduct@angular.io with the subject line \"Repeal Ban for {{your name here}}\" and body with the responses to the following:\\n\\n* Why do you believe you did not violate the Code of Conduct?\\n* Were other factors involved in this situation the leadership team may have been unaware of?\\n* Why do you wish to be a part of the Angular community?\\n\\n## Attribution\\n\\nThis Code of Conduct is adapted from the [Contributor Covenant](https://www.contributor-covenant.org), version 1.4,\\navailable at https://www.contributor-covenant.org/version/1/4/code-of-conduct.html\\n',\n",
       " 'metadata': {'end_byte': 3649,\n",
       "  'start_byte': 0,\n",
       "  'url': 'https://github.com/angular/angular-cli/blob/main/CODE_OF_CONDUCT.md'},\n",
       " 'dataset_id': 'angular-cli/CODE_OF_CONDUCT.md_0_3649'}"
      ]
     },
     "execution_count": 4,
     "metadata": {},
     "output_type": "execute_result"
    }
   ],
   "source": [
    "angular_docs[0]"
   ]
  },
  {
   "cell_type": "code",
   "execution_count": 10,
   "metadata": {},
   "outputs": [],
   "source": [
    "angular_docs_dict = {doc['dataset_id']: doc['text'] for doc in angular_docs}"
   ]
  },
  {
   "cell_type": "code",
   "execution_count": 12,
   "metadata": {},
   "outputs": [
    {
     "data": {
      "text/plain": [
       "[{'nugget_id': '76185522_nugget_0',\n",
       "  'text': 'The Angular Router needs to bind data and resolve properties to component inputs.',\n",
       "  'relevant_corpus_ids': ['angular/packages/router/test/directives/router_outlet.spec.ts_6016_13626',\n",
       "   'angular/packages/router/src/provide_router.ts_18034_25289',\n",
       "   'angular/packages/router/test/recognize.spec.ts_5870_8306',\n",
       "   'angular/packages/router/src/models.ts_10753_17056']},\n",
       " {'nugget_id': '76185522_nugget_1',\n",
       "  'text': 'Use withComponentInputBinding() as a second parameter in the provideRouter function to enable this binding.',\n",
       "  'relevant_corpus_ids': ['angular/packages/router/test/directives/router_outlet.spec.ts_6016_13626',\n",
       "   'angular/packages/router/src/provide_router.ts_18034_25289']}]"
      ]
     },
     "execution_count": 12,
     "metadata": {},
     "output_type": "execute_result"
    }
   ],
   "source": [
    "angular_questions[0][\"nugget_data\"]"
   ]
  },
  {
   "cell_type": "code",
   "execution_count": 13,
   "metadata": {},
   "outputs": [],
   "source": [
    "key_test = angular_questions[0][\"nugget_data\"][0][\"relevant_corpus_ids\"][0]"
   ]
  },
  {
   "cell_type": "code",
   "execution_count": 14,
   "metadata": {},
   "outputs": [
    {
     "data": {
      "text/plain": [
       "\"describe('component input binding', () => {\\n  it('sets component inputs from matching query params', async () => {\\n    @Component({\\n      template: '',\\n      standalone: false,\\n    })\\n    class MyComponent {\\n      @Input() language?: string;\\n    }\\n\\n    TestBed.configureTestingModule({\\n      providers: [\\n        provideRouter([{path: '**', component: MyComponent}], withComponentInputBinding()),\\n      ],\\n    });\\n    const harness = await RouterTestingHarness.create();\\n\\n    const instance = await harness.navigateByUrl('/?language=english', MyComponent);\\n    expect(instance.language).toEqual('english');\\n\\n    await harness.navigateByUrl('/?language=french');\\n    expect(instance.language).toEqual('french');\\n\\n    // Should set the input to undefined when the matching router data is removed\\n    await harness.navigateByUrl('/');\\n    expect(instance.language).toEqual(undefined);\\n    await harness.navigateByUrl('/?notlanguage=doubletalk');\\n    expect(instance.language).toEqual(undefined);\\n  });\\n\\n  it('sets component inputs from resolved and static data', async () => {\\n    @Component({\\n      template: '',\\n      standalone: false,\\n    })\\n    class MyComponent {\\n      @Input() resolveA?: string;\\n      @Input() dataA?: string;\\n    }\\n\\n    TestBed.configureTestingModule({\\n      providers: [\\n        provideRouter(\\n          [\\n            {\\n              path: '**',\\n              component: MyComponent,\\n              data: {'dataA': 'My static data'},\\n              resolve: {'resolveA': () => 'My resolved data'},\\n            },\\n          ],\\n          withComponentInputBinding(),\\n        ),\\n      ],\\n    });\\n    const harness = await RouterTestingHarness.create();\\n\\n    const instance = await harness.navigateByUrl('/', MyComponent);\\n    expect(instance.resolveA).toEqual('My resolved data');\\n    expect(instance.dataA).toEqual('My static data');\\n  });\\n\\n  it('sets component inputs from path params', async () => {\\n    @Component({\\n      template: '',\\n      standalone: false,\\n    })\\n    class MyComponent {\\n      @Input() language?: string;\\n    }\\n\\n    TestBed.configureTestingModule({\\n      providers: [\\n        provideRouter([{path: '**', component: MyComponent}], withComponentInputBinding()),\\n      ],\\n    });\\n    const harness = await RouterTestingHarness.create();\\n\\n    const instance = await harness.navigateByUrl('/x;language=english', MyComponent);\\n    expect(instance.language).toEqual('english');\\n  });\\n\\n  it('when keys conflict, sets inputs based on priority: data > path params > query params', async () => {\\n    @Component({\\n      template: '',\\n      standalone: false,\\n    })\\n    class MyComponent {\\n      @Input() result?: string;\\n    }\\n\\n    TestBed.configureTestingModule({\\n      providers: [\\n        provideRouter(\\n          [\\n            {\\n              path: 'withData',\\n              component: MyComponent,\\n              data: {'result': 'from data'},\\n            },\\n            {\\n              path: 'withoutData',\\n              component: MyComponent,\\n            },\\n          ],\\n          withComponentInputBinding(),\\n        ),\\n      ],\\n    });\\n    const harness = await RouterTestingHarness.create();\\n\\n    let instance = await harness.navigateByUrl(\\n      '/withData;result=from path param?result=from query params',\\n      MyComponent,\\n    );\\n    expect(instance.result).toEqual('from data');\\n\\n    // Same component, different instance because it's a different route\\n    instance = await harness.navigateByUrl(\\n      '/withoutData;result=from path param?result=from query params',\\n      MyComponent,\\n    );\\n    expect(instance.result).toEqual('from path param');\\n    instance = await harness.navigateByUrl('/withoutData?result=from query params', MyComponent);\\n    expect(instance.result).toEqual('from query params');\\n  });\\n\\n  it('does not write multiple times if two sources of conflicting keys both update', async () => {\\n    let resultLog: Array<string | undefined> = [];\\n    @Component({\\n      template: '',\\n      standalone: false,\\n    })\\n    class MyComponent {\\n      @Input()\\n      set result(v: string | undefined) {\\n        resultLog.push(v);\\n      }\\n    }\\n\\n    TestBed.configureTestingModule({\\n      providers: [\\n        provideRouter([{path: '**', component: MyComponent}], withComponentInputBinding()),\\n      ],\\n    });\\n    const harness = await RouterTestingHarness.create();\\n\\n    await harness.navigateByUrl('/x', MyComponent);\\n    expect(resultLog).toEqual([undefined]);\\n\\n    await harness.navigateByUrl('/x;result=from path param?result=from query params', MyComponent);\\n    expect(resultLog).toEqual([undefined, 'from path param']);\\n  });\\n\\n  it('Should have inputs available to all outlets after navigation', async () => {\\n    @Component({\\n      template: '{{myInput}}',\\n      standalone: true,\\n    })\\n    class MyComponent {\\n      @Input() myInput?: string;\\n    }\\n\\n    @Component({\\n      template: '<router-outlet/>',\\n      imports: [RouterOutlet],\\n      standalone: true,\\n    })\\n    class OutletWrapper {}\\n\\n    TestBed.configureTestingModule({\\n      providers: [\\n        provideRouter(\\n          [\\n            {\\n              path: 'root',\\n              component: OutletWrapper,\\n              children: [{path: '**', component: MyComponent}],\\n            },\\n          ],\\n          withComponentInputBinding(),\\n        ),\\n      ],\\n    });\\n    const harness = await RouterTestingHarness.create('/root/child?myInput=1');\\n    expect(harness.routeNativeElement!.innerText).toBe('1');\\n    await harness.navigateByUrl('/root/child?myInput=2');\\n    expect(harness.routeNativeElement!.innerText).toBe('2');\\n  });\\n});\\n\\ndescribe('injectors', () => {\\n  it('should always use environment injector from route hierarchy and not inherit from outlet', async () => {\\n    let childTokenValue: any = null;\\n    const TOKEN = new InjectionToken<any>('');\\n\\n    @Component({\\n      template: '',\\n      standalone: true,\\n    })\\n    class Child {\\n      constructor() {\\n        childTokenValue = inject(TOKEN as any, {optional: true});\\n      }\\n    }\\n\\n    @NgModule({\\n      providers: [{provide: TOKEN, useValue: 'some value'}],\\n    })\\n    class ModWithProviders {}\\n\\n    @Component({\\n      template: '<router-outlet/>',\\n      imports: [RouterOutlet, ModWithProviders],\\n      standalone: true,\\n    })\\n    class App {}\\n\\n    TestBed.configureTestingModule({\\n      providers: [provideRouter([{path: 'a', component: Child}])],\\n    });\\n    const fixture = TestBed.createComponent(App);\\n    fixture.detectChanges();\\n    await TestBed.inject(Router).navigateByUrl('/a');\\n    fixture.detectChanges();\\n    expect(childTokenValue).toEqual(null);\\n  });\\n\\n  it('should not get sibling providers', async () => {\\n    let childTokenValue: any = null;\\n    const TOKEN = new InjectionToken<any>('');\\n    @Component({\\n      template: '',\\n      standalone: true,\\n    })\\n    class Child {\\n      constructor() {\\n        childTokenValue = inject(TOKEN, {optional: true});\\n      }\\n    }\\n\\n    @Component({\\n      template: '<router-outlet/>',\\n      imports: [RouterOutlet],\\n      standalone: true,\\n    })\\n    class App {}\\n\\n    TestBed.configureTestingModule({\\n      providers: [\\n        provideRouter([\\n          {path: 'a', providers: [{provide: TOKEN, useValue: 'a value'}], component: Child},\\n          {path: 'b', component: Child},\\n        ]),\\n      ],\\n    });\\n    const fixture = TestBed.createComponent(App);\\n    fixture.detectChanges();\\n    await TestBed.inject(Router).navigateByUrl('/a');\\n    fixture.detectChanges();\\n    expect(childTokenValue).toEqual('a value');\\n    await TestBed.inject(Router).navigateByUrl('/b');\\n    fixture.detectChanges();\\n    expect(childTokenValue).toEqual(null);\\n  });\\n});\""
      ]
     },
     "execution_count": 14,
     "metadata": {},
     "output_type": "execute_result"
    }
   ],
   "source": [
    "angular_docs_dict[key_test]"
   ]
  },
  {
   "cell_type": "code",
   "execution_count": 21,
   "metadata": {},
   "outputs": [
    {
     "name": "stdout",
     "output_type": "stream",
     "text": [
      "Total number of questions: 129\n",
      "Mean tokens per question: 15793\n",
      "Median tokens per question: 14315\n",
      "Min tokens per question: 1632\n",
      "Max tokens per question: 57828\n"
     ]
    },
    {
     "data": {
      "image/png": "[encoded data removed]",
      "text/plain": [
       "<Figure size 1000x600 with 1 Axes>"
      ]
     },
     "metadata": {},
     "output_type": "display_data"
    }
   ],
   "source": [
    "import tiktoken\n",
    "import matplotlib.pyplot as plt\n",
    "import numpy as np\n",
    "\n",
    "def get_relevant_contexts(question, docs_dict):\n",
    "    \"\"\"Get all relevant contexts for a question's nuggets.\"\"\"\n",
    "    contexts = []\n",
    "    for nugget in question[\"nugget_data\"]:\n",
    "        for corpus_id in nugget[\"relevant_corpus_ids\"]:\n",
    "            if corpus_id in docs_dict:\n",
    "                contexts.append({\n",
    "                    \"context\": docs_dict[corpus_id]\n",
    "                })\n",
    "    return contexts\n",
    "\n",
    "# Get contexts grouped by question\n",
    "question_contexts = []\n",
    "for question in angular_questions:\n",
    "    contexts = get_relevant_contexts(question, angular_docs_dict)\n",
    "    question_contexts.append({\n",
    "        \"question\": question[\"question\"],\n",
    "        \"contexts\": contexts\n",
    "    })\n",
    "\n",
    "# Count tokens per question (sum of all contexts for that question)\n",
    "enc = tiktoken.get_encoding(\"cl100k_base\")\n",
    "token_counts = []\n",
    "for qc in question_contexts:\n",
    "    total_tokens = sum(len(enc.encode(context[\"context\"])) for context in qc[\"contexts\"])\n",
    "    token_counts.append(total_tokens)\n",
    "\n",
    "# Create histogram of token counts per question\n",
    "plt.figure(figsize=(10, 6))\n",
    "plt.hist(token_counts, bins=30, edgecolor='black')\n",
    "plt.title('Distribution of Total Token Counts per Question')\n",
    "plt.xlabel('Total Number of Tokens per Question')\n",
    "plt.ylabel('Number of Questions')\n",
    "plt.grid(True, alpha=0.3)\n",
    "\n",
    "# Add summary statistics\n",
    "mean_tokens = np.mean(token_counts)\n",
    "median_tokens = np.median(token_counts)\n",
    "plt.axvline(mean_tokens, color='r', linestyle='dashed', linewidth=1, label=f'Mean: {mean_tokens:.0f}')\n",
    "plt.axvline(median_tokens, color='g', linestyle='dashed', linewidth=1, label=f'Median: {median_tokens:.0f}')\n",
    "plt.legend()\n",
    "\n",
    "print(f\"Total number of questions: {len(question_contexts)}\")\n",
    "print(f\"Mean tokens per question: {mean_tokens:.0f}\")\n",
    "print(f\"Median tokens per question: {median_tokens:.0f}\")\n",
    "print(f\"Min tokens per question: {min(token_counts)}\")\n",
    "print(f\"Max tokens per question: {max(token_counts)}\")"
   ]
  },
  {
   "cell_type": "code",
   "execution_count": 32,
   "metadata": {},
   "outputs": [
    {
     "name": "stdout",
     "output_type": "stream",
     "text": [
      "Total number of questions: 129\n",
      "Mean tokens per question: 3698\n",
      "Median tokens per question: 3501\n",
      "Min tokens per question: 118\n",
      "Max tokens per question: 10027\n"
     ]
    },
    {
     "data": {
      "image/png": "[encoded data removed]",
      "text/plain": [
       "<Figure size 1000x600 with 1 Axes>"
      ]
     },
     "metadata": {},
     "output_type": "display_data"
    }
   ],
   "source": [
    "import tiktoken\n",
    "import matplotlib.pyplot as plt\n",
    "import numpy as np\n",
    "\n",
    "def get_relevant_contexts(question, docs_dict):\n",
    "    \"\"\"Get all relevant contexts for a question's nuggets.\"\"\"\n",
    "    contexts = []\n",
    "    for i, nugget in enumerate(question[\"nugget_data\"], 1):\n",
    "        if nugget[\"relevant_corpus_ids\"] and nugget[\"relevant_corpus_ids\"][0] in docs_dict:\n",
    "            contexts.append(f\"Search Result {i}\\n{docs_dict[nugget['relevant_corpus_ids'][0]]}\")\n",
    "    return \"\\n\\n\".join(contexts)\n",
    "\n",
    "# Get contexts grouped by question\n",
    "questions_with_contexts = []\n",
    "for question in angular_questions:\n",
    "    contexts = get_relevant_contexts(question, angular_docs_dict)\n",
    "    questions_with_contexts.append({\n",
    "        \"question\": question[\"question\"],\n",
    "        \"contexts\": contexts\n",
    "    })\n",
    "\n",
    "# Count tokens per question (sum of all contexts for that question)\n",
    "enc = tiktoken.get_encoding(\"cl100k_base\")\n",
    "token_counts = []\n",
    "for qc in questions_with_contexts:\n",
    "    total_tokens = len(enc.encode(qc[\"contexts\"]))\n",
    "    token_counts.append(total_tokens)\n",
    "\n",
    "# Create histogram of token counts per question\n",
    "plt.figure(figsize=(10, 6))\n",
    "plt.hist(token_counts, bins=30, edgecolor='black')\n",
    "plt.title('Distribution of Total Token Counts per Question')\n",
    "plt.xlabel('Total Number of Tokens per Question')\n",
    "plt.ylabel('Number of Questions')\n",
    "plt.grid(True, alpha=0.3)\n",
    "\n",
    "# Add summary statistics\n",
    "mean_tokens = np.mean(token_counts)\n",
    "median_tokens = np.median(token_counts)\n",
    "plt.axvline(mean_tokens, color='r', linestyle='dashed', linewidth=1, label=f'Mean: {mean_tokens:.0f}')\n",
    "plt.axvline(median_tokens, color='g', linestyle='dashed', linewidth=1, label=f'Median: {median_tokens:.0f}')\n",
    "plt.legend()\n",
    "\n",
    "print(f\"Total number of questions: {len(question_contexts)}\")\n",
    "print(f\"Mean tokens per question: {mean_tokens:.0f}\")\n",
    "print(f\"Median tokens per question: {median_tokens:.0f}\")\n",
    "print(f\"Min tokens per question: {min(token_counts)}\")\n",
    "print(f\"Max tokens per question: {max(token_counts)}\")"
   ]
  },
  {
   "cell_type": "code",
   "execution_count": 35,
   "metadata": {},
   "outputs": [
    {
     "name": "stderr",
     "output_type": "stream",
     "text": [
      "/Library/Frameworks/Python.framework/Versions/3.10/lib/python3.10/site-packages/weaviate/warnings.py:314: ResourceWarning: Con004: The connection to Weaviate was not closed properly. This can lead to memory leaks.\n",
      "            Please make sure to close the connection using `client.close()`.\n",
      "  warnings.warn(\n",
      "/var/folders/41/8dp_379x15d8zz4ppsjthdw40000gn/T/ipykernel_68651/174038986.py:23: ResourceWarning: unclosed <ssl.SSLSocket fd=98, family=AddressFamily.AF_INET, type=SocketKind.SOCK_STREAM, proto=0, laddr=('10.0.0.120', 52992), raddr=('35.201.124.182', 443)>\n",
      "  with weaviate_client.batch.fixed_size(batch_size=100, concurrent_requests=4) as batch:\n",
      "ResourceWarning: Enable tracemalloc to get the object allocation traceback\n",
      "sys:1: ResourceWarning: Unclosed socket <zmq.Socket(zmq.PUSH) at 0x2add63b20>\n",
      "ResourceWarning: Enable tracemalloc to get the object allocation traceback\n",
      "sys:1: ResourceWarning: Unclosed socket <zmq.Socket(zmq.PUSH) at 0x2ad08e140>\n",
      "ResourceWarning: Enable tracemalloc to get the object allocation traceback\n",
      "/Library/Frameworks/Python.framework/Versions/3.10/lib/python3.10/_collections_abc.py:82: ResourceWarning: unclosed <ssl.SSLSocket fd=94, family=AddressFamily.AF_INET, type=SocketKind.SOCK_STREAM, proto=0, laddr=('10.0.0.120', 52979), raddr=('35.201.124.182', 443)>\n",
      "  if method in B.__dict__:\n",
      "ResourceWarning: Enable tracemalloc to get the object allocation traceback\n"
     ]
    }
   ],
   "source": [
    "import os\n",
    "import time\n",
    "\n",
    "import weaviate\n",
    "import weaviate.collections.classes.config as wvcc\n",
    "\n",
    "weaviate_client = weaviate.connect_to_weaviate_cloud(\n",
    "    cluster_url=os.getenv(\"WEAVIATE_URL\"),\n",
    "    auth_credentials=weaviate.auth.AuthApiKey(os.getenv(\"WEAVIATE_API_KEY\")),\n",
    ")\n",
    "\n",
    "if weaviate_client.collections.exists(\"FreshstackAngularGold\"):\n",
    "    weaviate_client.collections.delete(\"FreshstackAngularGold\")\n",
    "\n",
    "weaviate_client.collections.create(\n",
    "    name=\"FreshstackAngularGold\",\n",
    "    vectorizer_config=wvcc.Configure.Vectorizer.text2vec_weaviate(),\n",
    "    properties=[\n",
    "        wvcc.Property(name=\"question\", data_type=wvcc.DataType.TEXT),\n",
    "        wvcc.Property(name=\"contexts\", data_type=wvcc.DataType.TEXT),\n",
    "    ]\n",
    ")\n",
    "\n",
    "with weaviate_client.batch.fixed_size(batch_size=100, concurrent_requests=4) as batch:\n",
    "    for question_with_context in questions_with_contexts:\n",
    "        batch.add_object(\n",
    "            collection=\"FreshstackAngularGold\",\n",
    "            properties={\n",
    "                \"question\": question_with_context[\"question\"],\n",
    "                \"contexts\": question_with_context[\"contexts\"]\n",
    "            }\n",
    "        )"
   ]
  },
  {
   "cell_type": "code",
   "execution_count": 36,
   "metadata": {},
   "outputs": [],
   "source": [
    "from weaviate.agents.transformation import TransformationAgent\n",
    "from weaviate.agents.classes import Operations\n",
    "from weaviate.collections.classes.config import DataType\n",
    "\n",
    "assess_sufficient_context = Operations.append_property(\n",
    "    property_name=\"sufficient_context_assessment\",\n",
    "    data_type=DataType.BOOL,\n",
    "    view_properties=[\"question\", \"contexts\"],\n",
    "    instruction=\"\"\"Determine if the context contains sufficient information to answer the question.\n",
    "\n",
    "An instance has sufficient context if and only if there exists an answer A' such that A' is a plausible answer to the question given the information in the context.\n",
    "\n",
    "Key points:\n",
    "- The context is sufficient if it contains all necessary information to provide a definitive answer\n",
    "- For multi-hop questions, facts can be combined but unsupported inferences should not be made\n",
    "- For ambiguous queries, context is sufficient if it can disambiguate AND answer the question\n",
    "- For ambiguous contexts with multiple plausible answers, sufficient information must exist to distinguish between them\n",
    "\n",
    "Return True if the context is sufficient to answer the question, False otherwise.\n",
    "Return only the boolean value.\"\"\"\n",
    ")\n",
    "\n",
    "agent = TransformationAgent(\n",
    "    client=weaviate_client,\n",
    "    collection=\"FreshstackAngularGold\",\n",
    "    operations=[assess_sufficient_context],\n",
    ")\n",
    "\n",
    "response = agent.update_all()"
   ]
  },
  {
   "cell_type": "code",
   "execution_count": 38,
   "metadata": {},
   "outputs": [
    {
     "data": {
      "text/plain": [
       "{'workflow_id': 'TransformationWorkflow-b434ee69b8848a2e083430f39797d47f',\n",
       " 'status': {'batch_count': 1,\n",
       "  'end_time': '2025-06-06 13:59:37',\n",
       "  'start_time': '2025-06-06 13:56:49',\n",
       "  'state': 'completed',\n",
       "  'total_duration': 168.865235,\n",
       "  'total_items': 129}}"
      ]
     },
     "execution_count": 38,
     "metadata": {},
     "output_type": "execute_result"
    }
   ],
   "source": [
    "agent.get_status(workflow_id=response.workflow_id)"
   ]
  },
  {
   "cell_type": "code",
   "execution_count": 39,
   "metadata": {},
   "outputs": [
    {
     "data": {
      "text/html": [
       "<pre style=\"white-space:pre;overflow-x:auto;line-height:normal;font-family:Menlo,'DejaVu Sans Mono',consolas,'Courier New',monospace\">╭─────────────────────────────────────────────── 🔍 Original Query ───────────────────────────────────────────────╮\n",
       "│                                                                                                                 │\n",
       "│ What percentage of questions are assessed to have sufficient context?                                           │\n",
       "│                                                                                                                 │\n",
       "╰─────────────────────────────────────────────────────────────────────────────────────────────────────────────────╯\n",
       "</pre>\n"
      ],
      "text/plain": [
       "╭─────────────────────────────────────────────── 🔍 Original Query ───────────────────────────────────────────────╮\n",
       "│                                                                                                                 │\n",
       "│ What percentage of questions are assessed to have sufficient context?                                           │\n",
       "│                                                                                                                 │\n",
       "╰─────────────────────────────────────────────────────────────────────────────────────────────────────────────────╯\n"
      ]
     },
     "metadata": {},
     "output_type": "display_data"
    },
    {
     "data": {
      "text/html": [
       "<pre style=\"white-space:pre;overflow-x:auto;line-height:normal;font-family:Menlo,'DejaVu Sans Mono',consolas,'Courier New',monospace\"><span style=\"color: #008080; text-decoration-color: #008080\">╭────────────────────────────────────────────────</span> 📝 Final Answer <span style=\"color: #008080; text-decoration-color: #008080\">────────────────────────────────────────────────╮</span>\n",
       "<span style=\"color: #008080; text-decoration-color: #008080\">│                                                                                                                 │</span>\n",
       "<span style=\"color: #008080; text-decoration-color: #008080\">│ Approximately 91.47% of the questions are assessed to have sufficient context. This means that out of the total │</span>\n",
       "<span style=\"color: #008080; text-decoration-color: #008080\">│ questions evaluated, about 118 were deemed to have enough context, while around 11 questions were considered    │</span>\n",
       "<span style=\"color: #008080; text-decoration-color: #008080\">│ lacking sufficient context. Thus, the vast majority of questions meet the criteria for sufficient context.      │</span>\n",
       "<span style=\"color: #008080; text-decoration-color: #008080\">│                                                                                                                 │</span>\n",
       "<span style=\"color: #008080; text-decoration-color: #008080\">╰─────────────────────────────────────────────────────────────────────────────────────────────────────────────────╯</span>\n",
       "</pre>\n"
      ],
      "text/plain": [
       "\u001b[36m╭─\u001b[0m\u001b[36m───────────────────────────────────────────────\u001b[0m 📝 Final Answer \u001b[36m───────────────────────────────────────────────\u001b[0m\u001b[36m─╮\u001b[0m\n",
       "\u001b[36m│\u001b[0m\u001b[36m                                                                                                                 \u001b[0m\u001b[36m│\u001b[0m\n",
       "\u001b[36m│\u001b[0m\u001b[36m \u001b[0m\u001b[36mApproximately 91.47% of the questions are assessed to have sufficient context. This means that out of the total\u001b[0m\u001b[36m \u001b[0m\u001b[36m│\u001b[0m\n",
       "\u001b[36m│\u001b[0m\u001b[36m \u001b[0m\u001b[36mquestions evaluated, about 118 were deemed to have enough context, while around 11 questions were considered \u001b[0m\u001b[36m  \u001b[0m\u001b[36m \u001b[0m\u001b[36m│\u001b[0m\n",
       "\u001b[36m│\u001b[0m\u001b[36m \u001b[0m\u001b[36mlacking sufficient context. Thus, the vast majority of questions meet the criteria for sufficient context.\u001b[0m\u001b[36m     \u001b[0m\u001b[36m \u001b[0m\u001b[36m│\u001b[0m\n",
       "\u001b[36m│\u001b[0m\u001b[36m                                                                                                                 \u001b[0m\u001b[36m│\u001b[0m\n",
       "\u001b[36m╰─────────────────────────────────────────────────────────────────────────────────────────────────────────────────╯\u001b[0m\n"
      ]
     },
     "metadata": {},
     "output_type": "display_data"
    },
    {
     "data": {
      "text/html": [
       "<pre style=\"white-space:pre;overflow-x:auto;line-height:normal;font-family:Menlo,'DejaVu Sans Mono',consolas,'Courier New',monospace\"><span style=\"color: #d75f5f; text-decoration-color: #d75f5f\">╭─────────────────────────────────────────────────────────────────────────────────────────────────────────────────╮</span>\n",
       "<span style=\"color: #d75f5f; text-decoration-color: #d75f5f\">│                                                                                                                 │</span>\n",
       "<span style=\"color: #d75f5f; text-decoration-color: #d75f5f\">│ 🔭 No Searches Run                                                                                              │</span>\n",
       "<span style=\"color: #d75f5f; text-decoration-color: #d75f5f\">│                                                                                                                 │</span>\n",
       "<span style=\"color: #d75f5f; text-decoration-color: #d75f5f\">╰─────────────────────────────────────────────────────────────────────────────────────────────────────────────────╯</span>\n",
       "</pre>\n"
      ],
      "text/plain": [
       "\u001b[38;5;167m╭─────────────────────────────────────────────────────────────────────────────────────────────────────────────────╮\u001b[0m\n",
       "\u001b[38;5;167m│\u001b[0m\u001b[38;5;167m                                                                                                                 \u001b[0m\u001b[38;5;167m│\u001b[0m\n",
       "\u001b[38;5;167m│\u001b[0m\u001b[38;5;167m \u001b[0m\u001b[38;5;167m🔭 No Searches Run\u001b[0m\u001b[38;5;167m                                                                                             \u001b[0m\u001b[38;5;167m \u001b[0m\u001b[38;5;167m│\u001b[0m\n",
       "\u001b[38;5;167m│\u001b[0m\u001b[38;5;167m                                                                                                                 \u001b[0m\u001b[38;5;167m│\u001b[0m\n",
       "\u001b[38;5;167m╰─────────────────────────────────────────────────────────────────────────────────────────────────────────────────╯\u001b[0m\n"
      ]
     },
     "metadata": {},
     "output_type": "display_data"
    },
    {
     "data": {
      "text/html": [
       "<pre style=\"white-space:pre;overflow-x:auto;line-height:normal;font-family:Menlo,'DejaVu Sans Mono',consolas,'Courier New',monospace\"><span style=\"color: #c0c0c0; text-decoration-color: #c0c0c0\">╭────────────────────────────────────────────</span> 📊 Aggregations Run 1/1 <span style=\"color: #c0c0c0; text-decoration-color: #c0c0c0\">────────────────────────────────────────────╮</span>\n",
       "<span style=\"color: #c0c0c0; text-decoration-color: #c0c0c0\">│                                                                                                                 │</span>\n",
       "<span style=\"color: #c0c0c0; text-decoration-color: #c0c0c0\">│ </span><span style=\"color: #800080; text-decoration-color: #800080; font-weight: bold\">AggregationResultWithCollection</span><span style=\"color: #c0c0c0; text-decoration-color: #c0c0c0; font-weight: bold\">(</span><span style=\"color: #c0c0c0; text-decoration-color: #c0c0c0\">                                                                                │</span>\n",
       "<span style=\"color: #c0c0c0; text-decoration-color: #c0c0c0\">│     </span><span style=\"color: #808000; text-decoration-color: #808000\">search_query</span><span style=\"color: #c0c0c0; text-decoration-color: #c0c0c0\">=</span><span style=\"color: #800080; text-decoration-color: #800080; font-style: italic\">None</span><span style=\"color: #c0c0c0; text-decoration-color: #c0c0c0\">,                                                                                          │</span>\n",
       "<span style=\"color: #c0c0c0; text-decoration-color: #c0c0c0\">│     </span><span style=\"color: #808000; text-decoration-color: #808000\">groupby_property</span><span style=\"color: #c0c0c0; text-decoration-color: #c0c0c0\">=</span><span style=\"color: #800080; text-decoration-color: #800080; font-style: italic\">None</span><span style=\"color: #c0c0c0; text-decoration-color: #c0c0c0\">,                                                                                      │</span>\n",
       "<span style=\"color: #c0c0c0; text-decoration-color: #c0c0c0\">│     </span><span style=\"color: #808000; text-decoration-color: #808000\">aggregations</span><span style=\"color: #c0c0c0; text-decoration-color: #c0c0c0\">=</span><span style=\"color: #c0c0c0; text-decoration-color: #c0c0c0; font-weight: bold\">[</span><span style=\"color: #c0c0c0; text-decoration-color: #c0c0c0\">                                                                                              │</span>\n",
       "<span style=\"color: #c0c0c0; text-decoration-color: #c0c0c0\">│         </span><span style=\"color: #800080; text-decoration-color: #800080; font-weight: bold\">BooleanPropertyAggregation</span><span style=\"color: #c0c0c0; text-decoration-color: #c0c0c0; font-weight: bold\">(</span><span style=\"color: #c0c0c0; text-decoration-color: #c0c0c0\">                                                                             │</span>\n",
       "<span style=\"color: #c0c0c0; text-decoration-color: #c0c0c0\">│             </span><span style=\"color: #808000; text-decoration-color: #808000\">property_name</span><span style=\"color: #c0c0c0; text-decoration-color: #c0c0c0\">=</span><span style=\"color: #008000; text-decoration-color: #008000\">'sufficient_context_assessment'</span><span style=\"color: #c0c0c0; text-decoration-color: #c0c0c0\">,                                                      │</span>\n",
       "<span style=\"color: #c0c0c0; text-decoration-color: #c0c0c0\">│             </span><span style=\"color: #808000; text-decoration-color: #808000\">metrics</span><span style=\"color: #c0c0c0; text-decoration-color: #c0c0c0\">=</span><span style=\"color: #c0c0c0; text-decoration-color: #c0c0c0; font-weight: bold\">&lt;</span><span style=\"color: #ff00ff; text-decoration-color: #ff00ff; font-weight: bold\">BooleanMetrics.PERCENTAGE_TRUE:</span><span style=\"color: #000000; text-decoration-color: #000000\"> </span><span style=\"color: #008000; text-decoration-color: #008000\">'PERCENTAGE_TRUE'</span><span style=\"color: #c0c0c0; text-decoration-color: #c0c0c0; font-weight: bold\">&gt;</span><span style=\"color: #c0c0c0; text-decoration-color: #c0c0c0\">                                         │</span>\n",
       "<span style=\"color: #c0c0c0; text-decoration-color: #c0c0c0\">│         </span><span style=\"color: #c0c0c0; text-decoration-color: #c0c0c0; font-weight: bold\">)</span><span style=\"color: #c0c0c0; text-decoration-color: #c0c0c0\">                                                                                                       │</span>\n",
       "<span style=\"color: #c0c0c0; text-decoration-color: #c0c0c0\">│     </span><span style=\"color: #c0c0c0; text-decoration-color: #c0c0c0; font-weight: bold\">]</span><span style=\"color: #c0c0c0; text-decoration-color: #c0c0c0\">,                                                                                                          │</span>\n",
       "<span style=\"color: #c0c0c0; text-decoration-color: #c0c0c0\">│     </span><span style=\"color: #808000; text-decoration-color: #808000\">filters</span><span style=\"color: #c0c0c0; text-decoration-color: #c0c0c0\">=</span><span style=\"color: #c0c0c0; text-decoration-color: #c0c0c0; font-weight: bold\">[]</span><span style=\"color: #c0c0c0; text-decoration-color: #c0c0c0\">,                                                                                                 │</span>\n",
       "<span style=\"color: #c0c0c0; text-decoration-color: #c0c0c0\">│     </span><span style=\"color: #808000; text-decoration-color: #808000\">collection</span><span style=\"color: #c0c0c0; text-decoration-color: #c0c0c0\">=</span><span style=\"color: #008000; text-decoration-color: #008000\">'FreshstackAngularGold'</span><span style=\"color: #c0c0c0; text-decoration-color: #c0c0c0\">                                                                          │</span>\n",
       "<span style=\"color: #c0c0c0; text-decoration-color: #c0c0c0\">│ </span><span style=\"color: #c0c0c0; text-decoration-color: #c0c0c0; font-weight: bold\">)</span><span style=\"color: #c0c0c0; text-decoration-color: #c0c0c0\">                                                                                                               │</span>\n",
       "<span style=\"color: #c0c0c0; text-decoration-color: #c0c0c0\">│                                                                                                                 │</span>\n",
       "<span style=\"color: #c0c0c0; text-decoration-color: #c0c0c0\">╰─────────────────────────────────────────────────────────────────────────────────────────────────────────────────╯</span>\n",
       "</pre>\n"
      ],
      "text/plain": [
       "\u001b[37m╭─\u001b[0m\u001b[37m───────────────────────────────────────────\u001b[0m 📊 Aggregations Run 1/1 \u001b[37m───────────────────────────────────────────\u001b[0m\u001b[37m─╮\u001b[0m\n",
       "\u001b[37m│\u001b[0m\u001b[37m                                                                                                                 \u001b[0m\u001b[37m│\u001b[0m\n",
       "\u001b[37m│\u001b[0m\u001b[37m \u001b[0m\u001b[1;35mAggregationResultWithCollection\u001b[0m\u001b[1;37m(\u001b[0m\u001b[37m                                                                               \u001b[0m\u001b[37m \u001b[0m\u001b[37m│\u001b[0m\n",
       "\u001b[37m│\u001b[0m\u001b[37m \u001b[0m\u001b[37m    \u001b[0m\u001b[33msearch_query\u001b[0m\u001b[37m=\u001b[0m\u001b[3;35mNone\u001b[0m\u001b[37m,\u001b[0m\u001b[37m                                                                                         \u001b[0m\u001b[37m \u001b[0m\u001b[37m│\u001b[0m\n",
       "\u001b[37m│\u001b[0m\u001b[37m \u001b[0m\u001b[37m    \u001b[0m\u001b[33mgroupby_property\u001b[0m\u001b[37m=\u001b[0m\u001b[3;35mNone\u001b[0m\u001b[37m,\u001b[0m\u001b[37m                                                                                     \u001b[0m\u001b[37m \u001b[0m\u001b[37m│\u001b[0m\n",
       "\u001b[37m│\u001b[0m\u001b[37m \u001b[0m\u001b[37m    \u001b[0m\u001b[33maggregations\u001b[0m\u001b[37m=\u001b[0m\u001b[1;37m[\u001b[0m\u001b[37m                                                                                             \u001b[0m\u001b[37m \u001b[0m\u001b[37m│\u001b[0m\n",
       "\u001b[37m│\u001b[0m\u001b[37m \u001b[0m\u001b[37m        \u001b[0m\u001b[1;35mBooleanPropertyAggregation\u001b[0m\u001b[1;37m(\u001b[0m\u001b[37m                                                                            \u001b[0m\u001b[37m \u001b[0m\u001b[37m│\u001b[0m\n",
       "\u001b[37m│\u001b[0m\u001b[37m \u001b[0m\u001b[37m            \u001b[0m\u001b[33mproperty_name\u001b[0m\u001b[37m=\u001b[0m\u001b[32m'sufficient_context_assessment'\u001b[0m\u001b[37m,\u001b[0m\u001b[37m                                                     \u001b[0m\u001b[37m \u001b[0m\u001b[37m│\u001b[0m\n",
       "\u001b[37m│\u001b[0m\u001b[37m \u001b[0m\u001b[37m            \u001b[0m\u001b[33mmetrics\u001b[0m\u001b[37m=\u001b[0m\u001b[1;37m<\u001b[0m\u001b[1;95mBooleanMetrics.PERCENTAGE_TRUE:\u001b[0m\u001b[39m \u001b[0m\u001b[32m'PERCENTAGE_TRUE'\u001b[0m\u001b[1;37m>\u001b[0m\u001b[37m                                        \u001b[0m\u001b[37m \u001b[0m\u001b[37m│\u001b[0m\n",
       "\u001b[37m│\u001b[0m\u001b[37m \u001b[0m\u001b[37m        \u001b[0m\u001b[1;37m)\u001b[0m\u001b[37m                                                                                                      \u001b[0m\u001b[37m \u001b[0m\u001b[37m│\u001b[0m\n",
       "\u001b[37m│\u001b[0m\u001b[37m \u001b[0m\u001b[37m    \u001b[0m\u001b[1;37m]\u001b[0m\u001b[37m,\u001b[0m\u001b[37m                                                                                                         \u001b[0m\u001b[37m \u001b[0m\u001b[37m│\u001b[0m\n",
       "\u001b[37m│\u001b[0m\u001b[37m \u001b[0m\u001b[37m    \u001b[0m\u001b[33mfilters\u001b[0m\u001b[37m=\u001b[0m\u001b[1;37m[\u001b[0m\u001b[1;37m]\u001b[0m\u001b[37m,\u001b[0m\u001b[37m                                                                                                \u001b[0m\u001b[37m \u001b[0m\u001b[37m│\u001b[0m\n",
       "\u001b[37m│\u001b[0m\u001b[37m \u001b[0m\u001b[37m    \u001b[0m\u001b[33mcollection\u001b[0m\u001b[37m=\u001b[0m\u001b[32m'FreshstackAngularGold'\u001b[0m\u001b[37m                                                                         \u001b[0m\u001b[37m \u001b[0m\u001b[37m│\u001b[0m\n",
       "\u001b[37m│\u001b[0m\u001b[37m \u001b[0m\u001b[1;37m)\u001b[0m\u001b[37m                                                                                                              \u001b[0m\u001b[37m \u001b[0m\u001b[37m│\u001b[0m\n",
       "\u001b[37m│\u001b[0m\u001b[37m                                                                                                                 \u001b[0m\u001b[37m│\u001b[0m\n",
       "\u001b[37m╰─────────────────────────────────────────────────────────────────────────────────────────────────────────────────╯\u001b[0m\n"
      ]
     },
     "metadata": {},
     "output_type": "display_data"
    },
    {
     "name": "stdout",
     "output_type": "stream",
     "text": [
      "\n",
      "\n"
     ]
    },
    {
     "data": {
      "text/html": [
       "<pre style=\"white-space:pre;overflow-x:auto;line-height:normal;font-family:Menlo,'DejaVu Sans Mono',consolas,'Courier New',monospace\"><span style=\"font-style: italic\">   📊 Usage Statistics   </span>\n",
       "┌────────────────┬──────┐\n",
       "│ LLM Requests:  │ 3    │\n",
       "│ Input Tokens:  │ 8645 │\n",
       "│ Output Tokens: │ 229  │\n",
       "│ Total Tokens:  │ 8874 │\n",
       "└────────────────┴──────┘\n",
       "</pre>\n"
      ],
      "text/plain": [
       "\u001b[3m   📊 Usage Statistics   \u001b[0m\n",
       "┌────────────────┬──────┐\n",
       "│ LLM Requests:  │ 3    │\n",
       "│ Input Tokens:  │ 8645 │\n",
       "│ Output Tokens: │ 229  │\n",
       "│ Total Tokens:  │ 8874 │\n",
       "└────────────────┴──────┘\n"
      ]
     },
     "metadata": {},
     "output_type": "display_data"
    },
    {
     "data": {
      "text/html": [
       "<pre style=\"white-space:pre;overflow-x:auto;line-height:normal;font-family:Menlo,'DejaVu Sans Mono',consolas,'Courier New',monospace\">\n",
       "<span style=\"color: #008080; text-decoration-color: #008080; font-weight: bold\">Total Time Taken:</span><span style=\"color: #008080; text-decoration-color: #008080\"> </span><span style=\"color: #008080; text-decoration-color: #008080; font-weight: bold\">6.</span><span style=\"color: #008080; text-decoration-color: #008080\">69s</span>\n",
       "</pre>\n"
      ],
      "text/plain": [
       "\n",
       "\u001b[1;36mTotal Time Taken:\u001b[0m\u001b[36m \u001b[0m\u001b[1;36m6.\u001b[0m\u001b[36m69s\u001b[0m\n"
      ]
     },
     "metadata": {},
     "output_type": "display_data"
    }
   ],
   "source": [
    "from weaviate.agents.query import QueryAgent\n",
    "from weaviate.agents.utils import print_query_agent_response\n",
    "\n",
    "qa = QueryAgent(\n",
    "    client=weaviate_client, collections=[\"FreshstackAngularGold\"]\n",
    ")\n",
    "\n",
    "response = qa.run(\"What percentage of questions are assessed to have sufficient context?\")\n",
    "print_query_agent_response(response)"
   ]
  },
  {
   "cell_type": "code",
   "execution_count": 40,
   "metadata": {},
   "outputs": [
    {
     "data": {
      "text/html": [
       "<pre style=\"white-space:pre;overflow-x:auto;line-height:normal;font-family:Menlo,'DejaVu Sans Mono',consolas,'Courier New',monospace\">╭─────────────────────────────────────────────── 🔍 Original Query ───────────────────────────────────────────────╮\n",
       "│                                                                                                                 │\n",
       "│                                                                                                                 │\n",
       "│ Could you analyze a couple of the questions judged not to have sufficient context? What are they lacking?       │\n",
       "│                                                                                                                 │\n",
       "│                                                                                                                 │\n",
       "╰─────────────────────────────────────────────────────────────────────────────────────────────────────────────────╯\n",
       "</pre>\n"
      ],
      "text/plain": [
       "╭─────────────────────────────────────────────── 🔍 Original Query ───────────────────────────────────────────────╮\n",
       "│                                                                                                                 │\n",
       "│                                                                                                                 │\n",
       "│ Could you analyze a couple of the questions judged not to have sufficient context? What are they lacking?       │\n",
       "│                                                                                                                 │\n",
       "│                                                                                                                 │\n",
       "╰─────────────────────────────────────────────────────────────────────────────────────────────────────────────────╯\n"
      ]
     },
     "metadata": {},
     "output_type": "display_data"
    },
    {
     "data": {
      "text/html": [
       "<pre style=\"white-space:pre;overflow-x:auto;line-height:normal;font-family:Menlo,'DejaVu Sans Mono',consolas,'Courier New',monospace\"><span style=\"color: #008080; text-decoration-color: #008080\">╭────────────────────────────────────────────────</span> 📝 Final Answer <span style=\"color: #008080; text-decoration-color: #008080\">────────────────────────────────────────────────╮</span>\n",
       "<span style=\"color: #008080; text-decoration-color: #008080\">│                                                                                                                 │</span>\n",
       "<span style=\"color: #008080; text-decoration-color: #008080\">│ Two example questions judged not to have sufficient context and what they are lacking are as follows:           │</span>\n",
       "<span style=\"color: #008080; text-decoration-color: #008080\">│                                                                                                                 │</span>\n",
       "<span style=\"color: #008080; text-decoration-color: #008080\">│ 1. The first question concerns an error in an Angular 17 project where the user tries to display charts using   │</span>\n",
       "<span style=\"color: #008080; text-decoration-color: #008080\">│ AG Charts modules but gets an \"unable to resolve global window\" error. This question lacks context about the    │</span>\n",
       "<span style=\"color: #008080; text-decoration-color: #008080\">│ platform environment (server/browser) where the code is running, and how the Angular Universal or server-side   │</span>\n",
       "<span style=\"color: #008080; text-decoration-color: #008080\">│ rendering considerations have been handled. It does not provide details about whether the code is running on    │</span>\n",
       "<span style=\"color: #008080; text-decoration-color: #008080\">│ the server or browser, or what precautions have been taken for browser globals like `window`. This lack of      │</span>\n",
       "<span style=\"color: #008080; text-decoration-color: #008080\">│ context makes it hard to understand why the error occurs or how exactly to fix it.                              │</span>\n",
       "<span style=\"color: #008080; text-decoration-color: #008080\">│                                                                                                                 │</span>\n",
       "<span style=\"color: #008080; text-decoration-color: #008080\">│ 2. The second example involves a user trying to get sorted data from MatTableDataSource in Angular 16 but       │</span>\n",
       "<span style=\"color: #008080; text-decoration-color: #008080\">│ encounters a type error when passing a potentially null MatSort object to a function expecting a non-null       │</span>\n",
       "<span style=\"color: #008080; text-decoration-color: #008080\">│ MatSort. This question lacks specifics about the state of the MatSort (e.g., whether it is properly initialized │</span>\n",
       "<span style=\"color: #008080; text-decoration-color: #008080\">│ or assigned before usage) and does not provide code showing the initialization or assignment. There is          │</span>\n",
       "<span style=\"color: #008080; text-decoration-color: #008080\">│ insufficient context regarding the timing or lifecycle of the sort property, making it difficult to diagnose or │</span>\n",
       "<span style=\"color: #008080; text-decoration-color: #008080\">│ suggest fixes.                                                                                                  │</span>\n",
       "<span style=\"color: #008080; text-decoration-color: #008080\">│                                                                                                                 │</span>\n",
       "<span style=\"color: #008080; text-decoration-color: #008080\">│ Overall, these questions lack crucial contextual information such as environment details (SSR vs browser),      │</span>\n",
       "<span style=\"color: #008080; text-decoration-color: #008080\">│ lifecycle state, initialization patterns, or platform specifics necessary to understand the root cause of their │</span>\n",
       "<span style=\"color: #008080; text-decoration-color: #008080\">│ issues and provide targeted advice.                                                                             │</span>\n",
       "<span style=\"color: #008080; text-decoration-color: #008080\">│                                                                                                                 │</span>\n",
       "<span style=\"color: #008080; text-decoration-color: #008080\">╰─────────────────────────────────────────────────────────────────────────────────────────────────────────────────╯</span>\n",
       "</pre>\n"
      ],
      "text/plain": [
       "\u001b[36m╭─\u001b[0m\u001b[36m───────────────────────────────────────────────\u001b[0m 📝 Final Answer \u001b[36m───────────────────────────────────────────────\u001b[0m\u001b[36m─╮\u001b[0m\n",
       "\u001b[36m│\u001b[0m\u001b[36m                                                                                                                 \u001b[0m\u001b[36m│\u001b[0m\n",
       "\u001b[36m│\u001b[0m\u001b[36m \u001b[0m\u001b[36mTwo example questions judged not to have sufficient context and what they are lacking are as follows:\u001b[0m\u001b[36m          \u001b[0m\u001b[36m \u001b[0m\u001b[36m│\u001b[0m\n",
       "\u001b[36m│\u001b[0m\u001b[36m \u001b[0m\u001b[36m                                                                                                               \u001b[0m\u001b[36m \u001b[0m\u001b[36m│\u001b[0m\n",
       "\u001b[36m│\u001b[0m\u001b[36m \u001b[0m\u001b[36m1. The first question concerns an error in an Angular 17 project where the user tries to display charts using \u001b[0m\u001b[36m \u001b[0m\u001b[36m \u001b[0m\u001b[36m│\u001b[0m\n",
       "\u001b[36m│\u001b[0m\u001b[36m \u001b[0m\u001b[36mAG Charts modules but gets an \"unable to resolve global window\" error. This question lacks context about the \u001b[0m\u001b[36m  \u001b[0m\u001b[36m \u001b[0m\u001b[36m│\u001b[0m\n",
       "\u001b[36m│\u001b[0m\u001b[36m \u001b[0m\u001b[36mplatform environment (server/browser) where the code is running, and how the Angular Universal or server-side \u001b[0m\u001b[36m \u001b[0m\u001b[36m \u001b[0m\u001b[36m│\u001b[0m\n",
       "\u001b[36m│\u001b[0m\u001b[36m \u001b[0m\u001b[36mrendering considerations have been handled. It does not provide details about whether the code is running on \u001b[0m\u001b[36m  \u001b[0m\u001b[36m \u001b[0m\u001b[36m│\u001b[0m\n",
       "\u001b[36m│\u001b[0m\u001b[36m \u001b[0m\u001b[36mthe server or browser, or what precautions have been taken for browser globals like `window`. This lack of \u001b[0m\u001b[36m    \u001b[0m\u001b[36m \u001b[0m\u001b[36m│\u001b[0m\n",
       "\u001b[36m│\u001b[0m\u001b[36m \u001b[0m\u001b[36mcontext makes it hard to understand why the error occurs or how exactly to fix it.\u001b[0m\u001b[36m                             \u001b[0m\u001b[36m \u001b[0m\u001b[36m│\u001b[0m\n",
       "\u001b[36m│\u001b[0m\u001b[36m \u001b[0m\u001b[36m                                                                                                               \u001b[0m\u001b[36m \u001b[0m\u001b[36m│\u001b[0m\n",
       "\u001b[36m│\u001b[0m\u001b[36m \u001b[0m\u001b[36m2. The second example involves a user trying to get sorted data from MatTableDataSource in Angular 16 but \u001b[0m\u001b[36m     \u001b[0m\u001b[36m \u001b[0m\u001b[36m│\u001b[0m\n",
       "\u001b[36m│\u001b[0m\u001b[36m \u001b[0m\u001b[36mencounters a type error when passing a potentially null MatSort object to a function expecting a non-null \u001b[0m\u001b[36m     \u001b[0m\u001b[36m \u001b[0m\u001b[36m│\u001b[0m\n",
       "\u001b[36m│\u001b[0m\u001b[36m \u001b[0m\u001b[36mMatSort. This question lacks specifics about the state of the MatSort (e.g., whether it is properly initialized\u001b[0m\u001b[36m \u001b[0m\u001b[36m│\u001b[0m\n",
       "\u001b[36m│\u001b[0m\u001b[36m \u001b[0m\u001b[36mor assigned before usage) and does not provide code showing the initialization or assignment. There is \u001b[0m\u001b[36m        \u001b[0m\u001b[36m \u001b[0m\u001b[36m│\u001b[0m\n",
       "\u001b[36m│\u001b[0m\u001b[36m \u001b[0m\u001b[36minsufficient context regarding the timing or lifecycle of the sort property, making it difficult to diagnose or\u001b[0m\u001b[36m \u001b[0m\u001b[36m│\u001b[0m\n",
       "\u001b[36m│\u001b[0m\u001b[36m \u001b[0m\u001b[36msuggest fixes.\u001b[0m\u001b[36m                                                                                                 \u001b[0m\u001b[36m \u001b[0m\u001b[36m│\u001b[0m\n",
       "\u001b[36m│\u001b[0m\u001b[36m \u001b[0m\u001b[36m                                                                                                               \u001b[0m\u001b[36m \u001b[0m\u001b[36m│\u001b[0m\n",
       "\u001b[36m│\u001b[0m\u001b[36m \u001b[0m\u001b[36mOverall, these questions lack crucial contextual information such as environment details (SSR vs browser), \u001b[0m\u001b[36m    \u001b[0m\u001b[36m \u001b[0m\u001b[36m│\u001b[0m\n",
       "\u001b[36m│\u001b[0m\u001b[36m \u001b[0m\u001b[36mlifecycle state, initialization patterns, or platform specifics necessary to understand the root cause of their\u001b[0m\u001b[36m \u001b[0m\u001b[36m│\u001b[0m\n",
       "\u001b[36m│\u001b[0m\u001b[36m \u001b[0m\u001b[36missues and provide targeted advice.\u001b[0m\u001b[36m                                                                            \u001b[0m\u001b[36m \u001b[0m\u001b[36m│\u001b[0m\n",
       "\u001b[36m│\u001b[0m\u001b[36m                                                                                                                 \u001b[0m\u001b[36m│\u001b[0m\n",
       "\u001b[36m╰─────────────────────────────────────────────────────────────────────────────────────────────────────────────────╯\u001b[0m\n"
      ]
     },
     "metadata": {},
     "output_type": "display_data"
    },
    {
     "data": {
      "text/html": [
       "<pre style=\"white-space:pre;overflow-x:auto;line-height:normal;font-family:Menlo,'DejaVu Sans Mono',consolas,'Courier New',monospace\"><span style=\"color: #c0c0c0; text-decoration-color: #c0c0c0\">╭───────────────────────────────────────────</span> 🔭 Searches Executed 1/1 <span style=\"color: #c0c0c0; text-decoration-color: #c0c0c0\">────────────────────────────────────────────╮</span>\n",
       "<span style=\"color: #c0c0c0; text-decoration-color: #c0c0c0\">│                                                                                                                 │</span>\n",
       "<span style=\"color: #c0c0c0; text-decoration-color: #c0c0c0\">│ </span><span style=\"color: #800080; text-decoration-color: #800080; font-weight: bold\">QueryResultWithCollection</span><span style=\"color: #c0c0c0; text-decoration-color: #c0c0c0; font-weight: bold\">(</span><span style=\"color: #c0c0c0; text-decoration-color: #c0c0c0\">                                                                                      │</span>\n",
       "<span style=\"color: #c0c0c0; text-decoration-color: #c0c0c0\">│     </span><span style=\"color: #808000; text-decoration-color: #808000\">queries</span><span style=\"color: #c0c0c0; text-decoration-color: #c0c0c0\">=</span><span style=\"color: #c0c0c0; text-decoration-color: #c0c0c0; font-weight: bold\">[</span><span style=\"color: #008000; text-decoration-color: #008000\">'questions not judged to have sufficient context'</span><span style=\"color: #c0c0c0; text-decoration-color: #c0c0c0; font-weight: bold\">]</span><span style=\"color: #c0c0c0; text-decoration-color: #c0c0c0\">,                                                │</span>\n",
       "<span style=\"color: #c0c0c0; text-decoration-color: #c0c0c0\">│     </span><span style=\"color: #808000; text-decoration-color: #808000\">filters</span><span style=\"color: #c0c0c0; text-decoration-color: #c0c0c0\">=</span><span style=\"color: #c0c0c0; text-decoration-color: #c0c0c0; font-weight: bold\">[</span><span style=\"color: #c0c0c0; text-decoration-color: #c0c0c0\">                                                                                                   │</span>\n",
       "<span style=\"color: #c0c0c0; text-decoration-color: #c0c0c0\">│         </span><span style=\"color: #c0c0c0; text-decoration-color: #c0c0c0; font-weight: bold\">[</span><span style=\"color: #c0c0c0; text-decoration-color: #c0c0c0\">                                                                                                       │</span>\n",
       "<span style=\"color: #c0c0c0; text-decoration-color: #c0c0c0\">│             </span><span style=\"color: #800080; text-decoration-color: #800080; font-weight: bold\">BooleanPropertyFilter</span><span style=\"color: #c0c0c0; text-decoration-color: #c0c0c0; font-weight: bold\">(</span><span style=\"color: #c0c0c0; text-decoration-color: #c0c0c0\">                                                                              │</span>\n",
       "<span style=\"color: #c0c0c0; text-decoration-color: #c0c0c0\">│                 </span><span style=\"color: #808000; text-decoration-color: #808000\">property_name</span><span style=\"color: #c0c0c0; text-decoration-color: #c0c0c0\">=</span><span style=\"color: #008000; text-decoration-color: #008000\">'sufficient_context_assessment'</span><span style=\"color: #c0c0c0; text-decoration-color: #c0c0c0\">,                                                  │</span>\n",
       "<span style=\"color: #c0c0c0; text-decoration-color: #c0c0c0\">│                 </span><span style=\"color: #808000; text-decoration-color: #808000\">operator</span><span style=\"color: #c0c0c0; text-decoration-color: #c0c0c0\">=</span><span style=\"color: #c0c0c0; text-decoration-color: #c0c0c0; font-weight: bold\">&lt;</span><span style=\"color: #ff00ff; text-decoration-color: #ff00ff; font-weight: bold\">ComparisonOperator.EQUALS:</span><span style=\"color: #000000; text-decoration-color: #000000\"> </span><span style=\"color: #008000; text-decoration-color: #008000\">'='</span><span style=\"color: #c0c0c0; text-decoration-color: #c0c0c0; font-weight: bold\">&gt;</span><span style=\"color: #c0c0c0; text-decoration-color: #c0c0c0\">,                                                      │</span>\n",
       "<span style=\"color: #c0c0c0; text-decoration-color: #c0c0c0\">│                 </span><span style=\"color: #808000; text-decoration-color: #808000\">value</span><span style=\"color: #c0c0c0; text-decoration-color: #c0c0c0\">=</span><span style=\"color: #ff0000; text-decoration-color: #ff0000; font-style: italic\">False</span><span style=\"color: #c0c0c0; text-decoration-color: #c0c0c0\">                                                                                     │</span>\n",
       "<span style=\"color: #c0c0c0; text-decoration-color: #c0c0c0\">│             </span><span style=\"color: #c0c0c0; text-decoration-color: #c0c0c0; font-weight: bold\">)</span><span style=\"color: #c0c0c0; text-decoration-color: #c0c0c0\">                                                                                                   │</span>\n",
       "<span style=\"color: #c0c0c0; text-decoration-color: #c0c0c0\">│         </span><span style=\"color: #c0c0c0; text-decoration-color: #c0c0c0; font-weight: bold\">]</span><span style=\"color: #c0c0c0; text-decoration-color: #c0c0c0\">                                                                                                       │</span>\n",
       "<span style=\"color: #c0c0c0; text-decoration-color: #c0c0c0\">│     </span><span style=\"color: #c0c0c0; text-decoration-color: #c0c0c0; font-weight: bold\">]</span><span style=\"color: #c0c0c0; text-decoration-color: #c0c0c0\">,                                                                                                          │</span>\n",
       "<span style=\"color: #c0c0c0; text-decoration-color: #c0c0c0\">│     </span><span style=\"color: #808000; text-decoration-color: #808000\">filter_operators</span><span style=\"color: #c0c0c0; text-decoration-color: #c0c0c0\">=</span><span style=\"color: #008000; text-decoration-color: #008000\">'AND'</span><span style=\"color: #c0c0c0; text-decoration-color: #c0c0c0\">,                                                                                     │</span>\n",
       "<span style=\"color: #c0c0c0; text-decoration-color: #c0c0c0\">│     </span><span style=\"color: #808000; text-decoration-color: #808000\">collection</span><span style=\"color: #c0c0c0; text-decoration-color: #c0c0c0\">=</span><span style=\"color: #008000; text-decoration-color: #008000\">'FreshstackAngularGold'</span><span style=\"color: #c0c0c0; text-decoration-color: #c0c0c0\">                                                                          │</span>\n",
       "<span style=\"color: #c0c0c0; text-decoration-color: #c0c0c0\">│ </span><span style=\"color: #c0c0c0; text-decoration-color: #c0c0c0; font-weight: bold\">)</span><span style=\"color: #c0c0c0; text-decoration-color: #c0c0c0\">                                                                                                               │</span>\n",
       "<span style=\"color: #c0c0c0; text-decoration-color: #c0c0c0\">│                                                                                                                 │</span>\n",
       "<span style=\"color: #c0c0c0; text-decoration-color: #c0c0c0\">╰─────────────────────────────────────────────────────────────────────────────────────────────────────────────────╯</span>\n",
       "</pre>\n"
      ],
      "text/plain": [
       "\u001b[37m╭─\u001b[0m\u001b[37m──────────────────────────────────────────\u001b[0m 🔭 Searches Executed 1/1 \u001b[37m───────────────────────────────────────────\u001b[0m\u001b[37m─╮\u001b[0m\n",
       "\u001b[37m│\u001b[0m\u001b[37m                                                                                                                 \u001b[0m\u001b[37m│\u001b[0m\n",
       "\u001b[37m│\u001b[0m\u001b[37m \u001b[0m\u001b[1;35mQueryResultWithCollection\u001b[0m\u001b[1;37m(\u001b[0m\u001b[37m                                                                                     \u001b[0m\u001b[37m \u001b[0m\u001b[37m│\u001b[0m\n",
       "\u001b[37m│\u001b[0m\u001b[37m \u001b[0m\u001b[37m    \u001b[0m\u001b[33mqueries\u001b[0m\u001b[37m=\u001b[0m\u001b[1;37m[\u001b[0m\u001b[32m'questions not judged to have sufficient context'\u001b[0m\u001b[1;37m]\u001b[0m\u001b[37m,\u001b[0m\u001b[37m                                               \u001b[0m\u001b[37m \u001b[0m\u001b[37m│\u001b[0m\n",
       "\u001b[37m│\u001b[0m\u001b[37m \u001b[0m\u001b[37m    \u001b[0m\u001b[33mfilters\u001b[0m\u001b[37m=\u001b[0m\u001b[1;37m[\u001b[0m\u001b[37m                                                                                                  \u001b[0m\u001b[37m \u001b[0m\u001b[37m│\u001b[0m\n",
       "\u001b[37m│\u001b[0m\u001b[37m \u001b[0m\u001b[37m        \u001b[0m\u001b[1;37m[\u001b[0m\u001b[37m                                                                                                      \u001b[0m\u001b[37m \u001b[0m\u001b[37m│\u001b[0m\n",
       "\u001b[37m│\u001b[0m\u001b[37m \u001b[0m\u001b[37m            \u001b[0m\u001b[1;35mBooleanPropertyFilter\u001b[0m\u001b[1;37m(\u001b[0m\u001b[37m                                                                             \u001b[0m\u001b[37m \u001b[0m\u001b[37m│\u001b[0m\n",
       "\u001b[37m│\u001b[0m\u001b[37m \u001b[0m\u001b[37m                \u001b[0m\u001b[33mproperty_name\u001b[0m\u001b[37m=\u001b[0m\u001b[32m'sufficient_context_assessment'\u001b[0m\u001b[37m,\u001b[0m\u001b[37m                                                 \u001b[0m\u001b[37m \u001b[0m\u001b[37m│\u001b[0m\n",
       "\u001b[37m│\u001b[0m\u001b[37m \u001b[0m\u001b[37m                \u001b[0m\u001b[33moperator\u001b[0m\u001b[37m=\u001b[0m\u001b[1;37m<\u001b[0m\u001b[1;95mComparisonOperator.EQUALS:\u001b[0m\u001b[39m \u001b[0m\u001b[32m'='\u001b[0m\u001b[1;37m>\u001b[0m\u001b[37m,\u001b[0m\u001b[37m                                                     \u001b[0m\u001b[37m \u001b[0m\u001b[37m│\u001b[0m\n",
       "\u001b[37m│\u001b[0m\u001b[37m \u001b[0m\u001b[37m                \u001b[0m\u001b[33mvalue\u001b[0m\u001b[37m=\u001b[0m\u001b[3;91mFalse\u001b[0m\u001b[37m                                                                                    \u001b[0m\u001b[37m \u001b[0m\u001b[37m│\u001b[0m\n",
       "\u001b[37m│\u001b[0m\u001b[37m \u001b[0m\u001b[37m            \u001b[0m\u001b[1;37m)\u001b[0m\u001b[37m                                                                                                  \u001b[0m\u001b[37m \u001b[0m\u001b[37m│\u001b[0m\n",
       "\u001b[37m│\u001b[0m\u001b[37m \u001b[0m\u001b[37m        \u001b[0m\u001b[1;37m]\u001b[0m\u001b[37m                                                                                                      \u001b[0m\u001b[37m \u001b[0m\u001b[37m│\u001b[0m\n",
       "\u001b[37m│\u001b[0m\u001b[37m \u001b[0m\u001b[37m    \u001b[0m\u001b[1;37m]\u001b[0m\u001b[37m,\u001b[0m\u001b[37m                                                                                                         \u001b[0m\u001b[37m \u001b[0m\u001b[37m│\u001b[0m\n",
       "\u001b[37m│\u001b[0m\u001b[37m \u001b[0m\u001b[37m    \u001b[0m\u001b[33mfilter_operators\u001b[0m\u001b[37m=\u001b[0m\u001b[32m'AND'\u001b[0m\u001b[37m,\u001b[0m\u001b[37m                                                                                    \u001b[0m\u001b[37m \u001b[0m\u001b[37m│\u001b[0m\n",
       "\u001b[37m│\u001b[0m\u001b[37m \u001b[0m\u001b[37m    \u001b[0m\u001b[33mcollection\u001b[0m\u001b[37m=\u001b[0m\u001b[32m'FreshstackAngularGold'\u001b[0m\u001b[37m                                                                         \u001b[0m\u001b[37m \u001b[0m\u001b[37m│\u001b[0m\n",
       "\u001b[37m│\u001b[0m\u001b[37m \u001b[0m\u001b[1;37m)\u001b[0m\u001b[37m                                                                                                              \u001b[0m\u001b[37m \u001b[0m\u001b[37m│\u001b[0m\n",
       "\u001b[37m│\u001b[0m\u001b[37m                                                                                                                 \u001b[0m\u001b[37m│\u001b[0m\n",
       "\u001b[37m╰─────────────────────────────────────────────────────────────────────────────────────────────────────────────────╯\u001b[0m\n"
      ]
     },
     "metadata": {},
     "output_type": "display_data"
    },
    {
     "data": {
      "text/html": [
       "<pre style=\"white-space:pre;overflow-x:auto;line-height:normal;font-family:Menlo,'DejaVu Sans Mono',consolas,'Courier New',monospace\"><span style=\"color: #d75f5f; text-decoration-color: #d75f5f\">╭─────────────────────────────────────────────────────────────────────────────────────────────────────────────────╮</span>\n",
       "<span style=\"color: #d75f5f; text-decoration-color: #d75f5f\">│                                                                                                                 │</span>\n",
       "<span style=\"color: #d75f5f; text-decoration-color: #d75f5f\">│ 📊 No Aggregations Run                                                                                          │</span>\n",
       "<span style=\"color: #d75f5f; text-decoration-color: #d75f5f\">│                                                                                                                 │</span>\n",
       "<span style=\"color: #d75f5f; text-decoration-color: #d75f5f\">╰─────────────────────────────────────────────────────────────────────────────────────────────────────────────────╯</span>\n",
       "</pre>\n"
      ],
      "text/plain": [
       "\u001b[38;5;167m╭─────────────────────────────────────────────────────────────────────────────────────────────────────────────────╮\u001b[0m\n",
       "\u001b[38;5;167m│\u001b[0m\u001b[38;5;167m                                                                                                                 \u001b[0m\u001b[38;5;167m│\u001b[0m\n",
       "\u001b[38;5;167m│\u001b[0m\u001b[38;5;167m \u001b[0m\u001b[38;5;167m📊 No Aggregations Run\u001b[0m\u001b[38;5;167m                                                                                         \u001b[0m\u001b[38;5;167m \u001b[0m\u001b[38;5;167m│\u001b[0m\n",
       "\u001b[38;5;167m│\u001b[0m\u001b[38;5;167m                                                                                                                 \u001b[0m\u001b[38;5;167m│\u001b[0m\n",
       "\u001b[38;5;167m╰─────────────────────────────────────────────────────────────────────────────────────────────────────────────────╯\u001b[0m\n"
      ]
     },
     "metadata": {},
     "output_type": "display_data"
    },
    {
     "data": {
      "text/html": [
       "<pre style=\"white-space:pre;overflow-x:auto;line-height:normal;font-family:Menlo,'DejaVu Sans Mono',consolas,'Courier New',monospace\"><span style=\"color: #c0c0c0; text-decoration-color: #c0c0c0\">╭──────────────────────────────────────────────────</span> 📚 Sources <span style=\"color: #c0c0c0; text-decoration-color: #c0c0c0\">───────────────────────────────────────────────────╮</span>\n",
       "<span style=\"color: #c0c0c0; text-decoration-color: #c0c0c0\">│                                                                                                                 │</span>\n",
       "<span style=\"color: #c0c0c0; text-decoration-color: #c0c0c0\">│  - object_id='a3427ff4-2779-4f61-94a7-a2ee7128f09b' collection='FreshstackAngularGold'                          │</span>\n",
       "<span style=\"color: #c0c0c0; text-decoration-color: #c0c0c0\">│  - object_id='8d70ec8d-ed99-40a0-b463-280da1d8818a' collection='FreshstackAngularGold'                          │</span>\n",
       "<span style=\"color: #c0c0c0; text-decoration-color: #c0c0c0\">│                                                                                                                 │</span>\n",
       "<span style=\"color: #c0c0c0; text-decoration-color: #c0c0c0\">╰─────────────────────────────────────────────────────────────────────────────────────────────────────────────────╯</span>\n",
       "</pre>\n"
      ],
      "text/plain": [
       "\u001b[37m╭─\u001b[0m\u001b[37m─────────────────────────────────────────────────\u001b[0m 📚 Sources \u001b[37m──────────────────────────────────────────────────\u001b[0m\u001b[37m─╮\u001b[0m\n",
       "\u001b[37m│\u001b[0m\u001b[37m                                                                                                                 \u001b[0m\u001b[37m│\u001b[0m\n",
       "\u001b[37m│\u001b[0m\u001b[37m \u001b[0m\u001b[37m - object_id='a3427ff4-2779-4f61-94a7-a2ee7128f09b' collection='FreshstackAngularGold'\u001b[0m\u001b[37m                         \u001b[0m\u001b[37m \u001b[0m\u001b[37m│\u001b[0m\n",
       "\u001b[37m│\u001b[0m\u001b[37m \u001b[0m\u001b[37m - object_id='8d70ec8d-ed99-40a0-b463-280da1d8818a' collection='FreshstackAngularGold'\u001b[0m\u001b[37m                         \u001b[0m\u001b[37m \u001b[0m\u001b[37m│\u001b[0m\n",
       "\u001b[37m│\u001b[0m\u001b[37m                                                                                                                 \u001b[0m\u001b[37m│\u001b[0m\n",
       "\u001b[37m╰─────────────────────────────────────────────────────────────────────────────────────────────────────────────────╯\u001b[0m\n"
      ]
     },
     "metadata": {},
     "output_type": "display_data"
    },
    {
     "name": "stdout",
     "output_type": "stream",
     "text": [
      "\n",
      "\n"
     ]
    },
    {
     "data": {
      "text/html": [
       "<pre style=\"white-space:pre;overflow-x:auto;line-height:normal;font-family:Menlo,'DejaVu Sans Mono',consolas,'Courier New',monospace\"><span style=\"font-style: italic\">   📊 Usage Statistics    </span>\n",
       "┌────────────────┬───────┐\n",
       "│ LLM Requests:  │ 3     │\n",
       "│ Input Tokens:  │ 27944 │\n",
       "│ Output Tokens: │ 427   │\n",
       "│ Total Tokens:  │ 28371 │\n",
       "└────────────────┴───────┘\n",
       "</pre>\n"
      ],
      "text/plain": [
       "\u001b[3m   📊 Usage Statistics    \u001b[0m\n",
       "┌────────────────┬───────┐\n",
       "│ LLM Requests:  │ 3     │\n",
       "│ Input Tokens:  │ 27944 │\n",
       "│ Output Tokens: │ 427   │\n",
       "│ Total Tokens:  │ 28371 │\n",
       "└────────────────┴───────┘\n"
      ]
     },
     "metadata": {},
     "output_type": "display_data"
    },
    {
     "data": {
      "text/html": [
       "<pre style=\"white-space:pre;overflow-x:auto;line-height:normal;font-family:Menlo,'DejaVu Sans Mono',consolas,'Courier New',monospace\">\n",
       "<span style=\"color: #008080; text-decoration-color: #008080; font-weight: bold\">Total Time Taken:</span><span style=\"color: #008080; text-decoration-color: #008080\"> </span><span style=\"color: #008080; text-decoration-color: #008080; font-weight: bold\">9.</span><span style=\"color: #008080; text-decoration-color: #008080\">11s</span>\n",
       "</pre>\n"
      ],
      "text/plain": [
       "\n",
       "\u001b[1;36mTotal Time Taken:\u001b[0m\u001b[36m \u001b[0m\u001b[1;36m9.\u001b[0m\u001b[36m11s\u001b[0m\n"
      ]
     },
     "metadata": {},
     "output_type": "display_data"
    }
   ],
   "source": [
    "response = qa.run(\"\"\"\n",
    "Could you analyze a couple of the questions judged not to have sufficient context? What are they lacking?\n",
    "\"\"\")\n",
    "print_query_agent_response(response)"
   ]
  }
 ],
 "metadata": {
  "kernelspec": {
   "display_name": "Python 3",
   "language": "python",
   "name": "python3"
  },
  "language_info": {
   "codemirror_mode": {
    "name": "ipython",
    "version": 3
   },
   "file_extension": ".py",
   "mimetype": "text/x-python",
   "name": "python",
   "nbconvert_exporter": "python",
   "pygments_lexer": "ipython3",
   "version": "3.10.10"
  }
 },
 "nbformat": 4,
 "nbformat_minor": 2
}
