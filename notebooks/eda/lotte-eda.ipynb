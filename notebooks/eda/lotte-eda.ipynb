{
 "cells": [
  {
   "cell_type": "markdown",
   "id": "23b30667",
   "metadata": {},
   "source": [
    "# LoTTe EDA"
   ]
  },
  {
   "cell_type": "code",
   "execution_count": 1,
   "id": "83dbbc3a",
   "metadata": {},
   "outputs": [],
   "source": [
    "import ir_datasets"
   ]
  },
  {
   "cell_type": "code",
   "execution_count": 10,
   "id": "f325cb90",
   "metadata": {},
   "outputs": [],
   "source": [
    "lotte_dataset = ir_datasets.load(\"lotte/lifestyle/test/forum\")"
   ]
  },
  {
   "cell_type": "code",
   "execution_count": 11,
   "id": "0de25777",
   "metadata": {},
   "outputs": [
    {
     "name": "stdout",
     "output_type": "stream",
     "text": [
      "GenericDoc(doc_id='0', text='Normal double-acting baking powder makes CO2 (thus giving a rising effect) in two ways: when it gets wet, and when it is heated. Baking soda only makes CO2 when it gets wet. From Wikipedia: The acid in a baking powder can be either fast-acting or slow-acting.[6] A fast-acting acid reacts in a wet mixture with baking soda at room temperature, and a slow-acting acid will not react until heated in an oven. Baking powders that contain both fast- and slow-acting acids are double acting; those that contain only one acid are single acting. By providing a second rise in the oven, double-acting baking powders increase the reliability of baked goods by rendering the time elapsed between mixing and baking less critical, and this is the type most widely available to consumers today.')\n"
     ]
    }
   ],
   "source": [
    "for doc in lotte_dataset.docs_iter():\n",
    "    print(doc) \n",
    "    break"
   ]
  },
  {
   "cell_type": "code",
   "execution_count": 12,
   "id": "47ed6398",
   "metadata": {},
   "outputs": [
    {
     "name": "stdout",
     "output_type": "stream",
     "text": [
      "TrecQrel(query_id='0', doc_id='50103', relevance=1, iteration='0')\n"
     ]
    }
   ],
   "source": [
    "for qrel in lotte_dataset.qrels_iter():\n",
    "    print(qrel)\n",
    "    break"
   ]
  },
  {
   "cell_type": "code",
   "execution_count": 13,
   "id": "f86f4728",
   "metadata": {},
   "outputs": [
    {
     "name": "stdout",
     "output_type": "stream",
     "text": [
      "GenericQuery(query_id='0', text='OK were all adults here, so really, how on earth should I use a squat toilet?')\n"
     ]
    }
   ],
   "source": [
    "for query in lotte_dataset.queries_iter():\n",
    "    print(query)\n",
    "    break"
   ]
  },
  {
   "cell_type": "code",
   "execution_count": null,
   "id": "a6d98c89",
   "metadata": {},
   "outputs": [],
   "source": []
  }
 ],
 "metadata": {
  "kernelspec": {
   "display_name": "Python 3",
   "language": "python",
   "name": "python3"
  },
  "language_info": {
   "codemirror_mode": {
    "name": "ipython",
    "version": 3
   },
   "file_extension": ".py",
   "mimetype": "text/x-python",
   "name": "python",
   "nbconvert_exporter": "python",
   "pygments_lexer": "ipython3",
   "version": "3.10.10"
  }
 },
 "nbformat": 4,
 "nbformat_minor": 5
}
