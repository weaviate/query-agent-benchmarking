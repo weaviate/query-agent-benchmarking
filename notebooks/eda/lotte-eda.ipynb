{
 "cells": [
  {
   "cell_type": "markdown",
   "id": "23b30667",
   "metadata": {},
   "source": [
    "# LoTTe EDA"
   ]
  },
  {
   "cell_type": "code",
   "execution_count": 1,
   "id": "83dbbc3a",
   "metadata": {},
   "outputs": [],
   "source": [
    "import ir_datasets"
   ]
  },
  {
   "cell_type": "code",
   "execution_count": 3,
   "id": "f325cb90",
   "metadata": {},
   "outputs": [],
   "source": [
    "lotte_dataset = ir_datasets.load(\"lotte/lifestyle/test\")"
   ]
  },
  {
   "cell_type": "code",
   "execution_count": null,
   "id": "0de25777",
   "metadata": {},
   "outputs": [
    {
     "name": "stderr",
     "output_type": "stream",
     "text": [
      "[INFO] If you have a local copy of https://downloads.cs.stanford.edu/nlp/data/colbert/colbertv2/lotte.tar.gz, you can symlink it here to avoid downloading it again: /Users/cshorten/.ir_datasets/downloads/3b2e88b1d66933627462950b4c3f5d0f\n",
      "[INFO] [starting] https://downloads.cs.stanford.edu/nlp/data/colbert/colbertv2/lotte.tar.gz\n",
      "https://downloads.cs.stanford.edu/nlp/data/colbert/colbertv2/lotte.tar.gz: 2.1%| 75.1M/3.58G [00:10<08:09, 7.16MB/s] "
     ]
    }
   ],
   "source": [
    "for doc in lotte_dataset.docs_iter():\n",
    "    print(doc) \n",
    "    break"
   ]
  },
  {
   "cell_type": "code",
   "execution_count": null,
   "id": "47ed6398",
   "metadata": {},
   "outputs": [],
   "source": []
  }
 ],
 "metadata": {
  "kernelspec": {
   "display_name": "Python 3",
   "language": "python",
   "name": "python3"
  },
  "language_info": {
   "codemirror_mode": {
    "name": "ipython",
    "version": 3
   },
   "file_extension": ".py",
   "mimetype": "text/x-python",
   "name": "python",
   "nbconvert_exporter": "python",
   "pygments_lexer": "ipython3",
   "version": "3.10.10"
  }
 },
 "nbformat": 4,
 "nbformat_minor": 5
}
