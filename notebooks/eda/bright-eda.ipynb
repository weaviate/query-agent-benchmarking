{
 "cells": [
  {
   "cell_type": "markdown",
   "metadata": {},
   "source": [
    "# BRIGHT EDA"
   ]
  },
  {
   "cell_type": "code",
   "execution_count": 41,
   "metadata": {},
   "outputs": [],
   "source": [
    "from datasets import load_dataset\n",
    "\n",
    "ds = load_dataset(\"xlangai/BRIGHT\", \"documents\");"
   ]
  },
  {
   "cell_type": "code",
   "execution_count": 42,
   "metadata": {},
   "outputs": [
    {
     "data": {
      "text/plain": [
       "dict_keys(['biology', 'earth_science', 'economics', 'psychology', 'robotics', 'stackoverflow', 'sustainable_living', 'pony', 'leetcode', 'aops', 'theoremqa_theorems', 'theoremqa_questions'])"
      ]
     },
     "execution_count": 42,
     "metadata": {},
     "output_type": "execute_result"
    }
   ],
   "source": [
    "ds.keys()"
   ]
  },
  {
   "cell_type": "code",
   "execution_count": 43,
   "metadata": {},
   "outputs": [
    {
     "data": {
      "text/plain": [
       "Dataset({\n",
       "    features: ['id', 'content'],\n",
       "    num_rows: 57359\n",
       "})"
      ]
     },
     "execution_count": 43,
     "metadata": {},
     "output_type": "execute_result"
    }
   ],
   "source": [
    "ds[\"biology\"]"
   ]
  },
  {
   "cell_type": "code",
   "execution_count": 45,
   "metadata": {},
   "outputs": [
    {
     "name": "stdout",
     "output_type": "stream",
     "text": [
      "Row 0\n",
      " pelvises; and proportionally shorter forearms and forelegs.\n",
      "Based on 45 Neanderthal long bones from 14 men and 7 women, the average height was 164 to 168 cm (5 ft 5 in to 5 ft 6 in) for males and 152 to 156 cm (5 ft 0 in to 5 ft 1 in) for females. For comparison, the average height of 20 males and 10 females Upper Palaeolithic humans is, respectively, 176.2 cm (5 ft 9.4 in) and 162.9\n",
      "\n",
      "\n",
      "Row 1\n",
      " Gorham's Cave, Gibraltar, were discovered, dated to older than 39,000 years ago, which the discoverers have interpreted as Neanderthal abstract art. The scratches could have also been produced by a bear. In 2021, an Irish elk phalanx with five engraved offset chevrons stacked above each other was discovered at the entrance to the Einhornhöhle cave in Germany, dating to about 51,000 years ago.\n",
      "In 2018, some red-painted dots, disks, lines and hand stencils on the cave walls of the Spanish La Pasie\n",
      "\n",
      "\n",
      "Row 2\n",
      " similar to modern hunter gatherers, and was born in the spring, which is consistent with modern humans and other mammals whose birth cycles coincide with environmental cycles. Indicated from various ailments resulting from high stress at a low age, such as stunted growth, British archaeologist Paul Pettitt hypothesised that children of both sexes were put to work directly after weaning; and Trinkaus said that, upon reaching adolescence, an individual may have been expected to join in hunting large and dangerous game. However, the bone trauma is comparable to modern Inuit, which could suggest a similar childhood between\n",
      "\n",
      "\n",
      "Row 3\n",
      "Consequences of loss[edit]\n",
      "It is likely that some level of adaptation occurred after the loss of the GULO gene by primates. Erythrocyte Glut1 and associated dehydroascorbic acid uptake modulated by stomatin switch are unique traits of humans and the few other mammals that have lost the ability to synthesize ascorbic acid from glucose. As GLUT transporters and stomatin are ubiquitously distributed in different human cell types and tissues, similar interactions may occur in human cells other than erythrocytes.\n",
      "Linus Pauling observed that after the loss of endogenous ascorbate production, apo(a) and Lp(a)  were greatly favored by evolution, acting as ascorbate surrogate, since the frequency of occurrence of elevated Lp(a) plasma levels in species that had lost the ability to synthesize ascorbate is great. Also, only primates share regulation of CAMP gene expression by vitamin D, which occurred after the loss of GULO gene.\n",
      "Johnson et al. have hypothesized that the mutation of the GULOP pseudogene so that it stopped producing GULO may have been of benefit to early primates by increasing uric acid levels and enhancing fructose effects on weight gain and fat accumulation. With a shortage of food supplies this gave mutants a survival advantage.\n",
      "\n",
      "\n",
      "Row 4\n",
      " the high mortality rates. Alternatively, many more Neanderthals may have received burials, but the graves were infiltrated and destroyed by bears. Given that 20 graves of Neanderthals aged under 4 have been found—over a third of all known graves—deceased children may have received greater care during burial than other age demographics.\n",
      "Looking at Neanderthal skeletons recovered from several natural rock shelters, Trinkaus said that, although Neanderthals were recorded as bearing several trauma-related injuries, none of them had significant trauma to the legs that would debilitate movement. He suggested that self\n",
      "\n",
      "\n"
     ]
    }
   ],
   "source": [
    "for i in range(5):\n",
    "    print(f\"Row {i}\")\n",
    "    print(ds[\"biology\"][i][\"content\"])\n",
    "    print(\"\\n\")"
   ]
  },
  {
   "cell_type": "code",
   "execution_count": 40,
   "metadata": {},
   "outputs": [],
   "source": [
    "long_docs = load_dataset(\"xlangai/BRIGHT\", \"long_documents\");"
   ]
  },
  {
   "cell_type": "code",
   "execution_count": 20,
   "metadata": {},
   "outputs": [
    {
     "data": {
      "text/plain": [
       "'protein_in_food/Protein_folding.txt'"
      ]
     },
     "execution_count": 20,
     "metadata": {},
     "output_type": "execute_result"
    }
   ],
   "source": [
    "long_docs[\"biology\"][0][\"id\"]"
   ]
  },
  {
   "cell_type": "code",
   "execution_count": 21,
   "metadata": {},
   "outputs": [
    {
     "data": {
      "application/vnd.jupyter.widget-view+json": {
       "model_id": "dcba920079f84567a7011dee546aae2b",
       "version_major": 2,
       "version_minor": 0
      },
      "text/plain": [
       "Downloading data:   0%|          | 0.00/201k [00:00<?, ?B/s]"
      ]
     },
     "metadata": {},
     "output_type": "display_data"
    },
    {
     "data": {
      "application/vnd.jupyter.widget-view+json": {
       "model_id": "7964c1d1e8b94336b2c33cfc439b7a1c",
       "version_major": 2,
       "version_minor": 0
      },
      "text/plain": [
       "Downloading data:   0%|          | 0.00/184k [00:00<?, ?B/s]"
      ]
     },
     "metadata": {},
     "output_type": "display_data"
    },
    {
     "data": {
      "application/vnd.jupyter.widget-view+json": {
       "model_id": "42f9f46ecbf74e2c9d0830182c2099c0",
       "version_major": 2,
       "version_minor": 0
      },
      "text/plain": [
       "Downloading data:   0%|          | 0.00/220k [00:00<?, ?B/s]"
      ]
     },
     "metadata": {},
     "output_type": "display_data"
    },
    {
     "data": {
      "application/vnd.jupyter.widget-view+json": {
       "model_id": "6cc301e65b8449bc9cfad5b8e7f897a0",
       "version_major": 2,
       "version_minor": 0
      },
      "text/plain": [
       "Downloading data:   0%|          | 0.00/184k [00:00<?, ?B/s]"
      ]
     },
     "metadata": {},
     "output_type": "display_data"
    },
    {
     "data": {
      "application/vnd.jupyter.widget-view+json": {
       "model_id": "e1cf40b5f1714c1dbda2ac9d5f64c382",
       "version_major": 2,
       "version_minor": 0
      },
      "text/plain": [
       "Downloading data:   0%|          | 0.00/179k [00:00<?, ?B/s]"
      ]
     },
     "metadata": {},
     "output_type": "display_data"
    },
    {
     "data": {
      "application/vnd.jupyter.widget-view+json": {
       "model_id": "c9fdf240eb3744648eeff177ea47a663",
       "version_major": 2,
       "version_minor": 0
      },
      "text/plain": [
       "Downloading data:   0%|          | 0.00/250k [00:00<?, ?B/s]"
      ]
     },
     "metadata": {},
     "output_type": "display_data"
    },
    {
     "data": {
      "application/vnd.jupyter.widget-view+json": {
       "model_id": "40cfb3c0c4884b4faac0f0879f05a5f8",
       "version_major": 2,
       "version_minor": 0
      },
      "text/plain": [
       "Downloading data:   0%|          | 0.00/218k [00:00<?, ?B/s]"
      ]
     },
     "metadata": {},
     "output_type": "display_data"
    },
    {
     "data": {
      "application/vnd.jupyter.widget-view+json": {
       "model_id": "ae6989f1789e4d7babbdb7da163e8641",
       "version_major": 2,
       "version_minor": 0
      },
      "text/plain": [
       "Downloading data:   0%|          | 0.00/27.7k [00:00<?, ?B/s]"
      ]
     },
     "metadata": {},
     "output_type": "display_data"
    },
    {
     "data": {
      "application/vnd.jupyter.widget-view+json": {
       "model_id": "c431673fd32d4cddb471f0640a4cb2a0",
       "version_major": 2,
       "version_minor": 0
      },
      "text/plain": [
       "Downloading data:   0%|          | 0.00/169k [00:00<?, ?B/s]"
      ]
     },
     "metadata": {},
     "output_type": "display_data"
    },
    {
     "data": {
      "application/vnd.jupyter.widget-view+json": {
       "model_id": "606de5d6a67a4c688a7357ef8fcf2d04",
       "version_major": 2,
       "version_minor": 0
      },
      "text/plain": [
       "Downloading data:   0%|          | 0.00/1.34M [00:00<?, ?B/s]"
      ]
     },
     "metadata": {},
     "output_type": "display_data"
    },
    {
     "data": {
      "application/vnd.jupyter.widget-view+json": {
       "model_id": "ac53f4a7fe0f44f5be34e1d94e1f055b",
       "version_major": 2,
       "version_minor": 0
      },
      "text/plain": [
       "Downloading data:   0%|          | 0.00/124k [00:00<?, ?B/s]"
      ]
     },
     "metadata": {},
     "output_type": "display_data"
    },
    {
     "data": {
      "application/vnd.jupyter.widget-view+json": {
       "model_id": "5284ac9f60484d308e46c1401ec230bc",
       "version_major": 2,
       "version_minor": 0
      },
      "text/plain": [
       "Downloading data:   0%|          | 0.00/1.49M [00:00<?, ?B/s]"
      ]
     },
     "metadata": {},
     "output_type": "display_data"
    },
    {
     "data": {
      "application/vnd.jupyter.widget-view+json": {
       "model_id": "c1cd7175dc454ba0b817d6314e7dac3b",
       "version_major": 2,
       "version_minor": 0
      },
      "text/plain": [
       "Generating biology split:   0%|          | 0/103 [00:00<?, ? examples/s]"
      ]
     },
     "metadata": {},
     "output_type": "display_data"
    },
    {
     "data": {
      "application/vnd.jupyter.widget-view+json": {
       "model_id": "185442667bb04f3187eea3b3463792a0",
       "version_major": 2,
       "version_minor": 0
      },
      "text/plain": [
       "Generating earth_science split:   0%|          | 0/116 [00:00<?, ? examples/s]"
      ]
     },
     "metadata": {},
     "output_type": "display_data"
    },
    {
     "data": {
      "application/vnd.jupyter.widget-view+json": {
       "model_id": "38be703dd89d4209934a1e741e36590e",
       "version_major": 2,
       "version_minor": 0
      },
      "text/plain": [
       "Generating economics split:   0%|          | 0/103 [00:00<?, ? examples/s]"
      ]
     },
     "metadata": {},
     "output_type": "display_data"
    },
    {
     "data": {
      "application/vnd.jupyter.widget-view+json": {
       "model_id": "87a95f873bab4f8fb27289d1454e546e",
       "version_major": 2,
       "version_minor": 0
      },
      "text/plain": [
       "Generating psychology split:   0%|          | 0/101 [00:00<?, ? examples/s]"
      ]
     },
     "metadata": {},
     "output_type": "display_data"
    },
    {
     "data": {
      "application/vnd.jupyter.widget-view+json": {
       "model_id": "7207f749c1a7472385bea2505e865d1c",
       "version_major": 2,
       "version_minor": 0
      },
      "text/plain": [
       "Generating robotics split:   0%|          | 0/101 [00:00<?, ? examples/s]"
      ]
     },
     "metadata": {},
     "output_type": "display_data"
    },
    {
     "data": {
      "application/vnd.jupyter.widget-view+json": {
       "model_id": "e5d91e8361384538a24a08c4ed849d3e",
       "version_major": 2,
       "version_minor": 0
      },
      "text/plain": [
       "Generating stackoverflow split:   0%|          | 0/117 [00:00<?, ? examples/s]"
      ]
     },
     "metadata": {},
     "output_type": "display_data"
    },
    {
     "data": {
      "application/vnd.jupyter.widget-view+json": {
       "model_id": "45f4966ac02a48f5a9ff1463909402ad",
       "version_major": 2,
       "version_minor": 0
      },
      "text/plain": [
       "Generating sustainable_living split:   0%|          | 0/108 [00:00<?, ? examples/s]"
      ]
     },
     "metadata": {},
     "output_type": "display_data"
    },
    {
     "data": {
      "application/vnd.jupyter.widget-view+json": {
       "model_id": "64de164aa5c04af08089c1b261a9305a",
       "version_major": 2,
       "version_minor": 0
      },
      "text/plain": [
       "Generating pony split:   0%|          | 0/112 [00:00<?, ? examples/s]"
      ]
     },
     "metadata": {},
     "output_type": "display_data"
    },
    {
     "data": {
      "application/vnd.jupyter.widget-view+json": {
       "model_id": "700588f1c97f410f97407cf6362fcdcb",
       "version_major": 2,
       "version_minor": 0
      },
      "text/plain": [
       "Generating leetcode split:   0%|          | 0/142 [00:00<?, ? examples/s]"
      ]
     },
     "metadata": {},
     "output_type": "display_data"
    },
    {
     "data": {
      "application/vnd.jupyter.widget-view+json": {
       "model_id": "eabad923f5e5498bb159f529d4289c2a",
       "version_major": 2,
       "version_minor": 0
      },
      "text/plain": [
       "Generating aops split:   0%|          | 0/111 [00:00<?, ? examples/s]"
      ]
     },
     "metadata": {},
     "output_type": "display_data"
    },
    {
     "data": {
      "application/vnd.jupyter.widget-view+json": {
       "model_id": "13b1b46ad86446c0a5e5559076f82e5a",
       "version_major": 2,
       "version_minor": 0
      },
      "text/plain": [
       "Generating theoremqa_theorems split:   0%|          | 0/76 [00:00<?, ? examples/s]"
      ]
     },
     "metadata": {},
     "output_type": "display_data"
    },
    {
     "data": {
      "application/vnd.jupyter.widget-view+json": {
       "model_id": "47a8f6a093f643c1bc53f39312094129",
       "version_major": 2,
       "version_minor": 0
      },
      "text/plain": [
       "Generating theoremqa_questions split:   0%|          | 0/194 [00:00<?, ? examples/s]"
      ]
     },
     "metadata": {},
     "output_type": "display_data"
    }
   ],
   "source": [
    "questions = load_dataset(\"xlangai/BRIGHT\", \"examples\")"
   ]
  },
  {
   "cell_type": "code",
   "execution_count": 28,
   "metadata": {},
   "outputs": [
    {
     "name": "stdout",
     "output_type": "stream",
     "text": [
      "biology: 103 examples\n",
      "earth_science: 116 examples\n",
      "economics: 103 examples\n",
      "psychology: 101 examples\n",
      "robotics: 101 examples\n",
      "stackoverflow: 117 examples\n",
      "sustainable_living: 108 examples\n",
      "pony: 112 examples\n",
      "leetcode: 142 examples\n",
      "aops: 111 examples\n",
      "theoremqa_theorems: 76 examples\n",
      "theoremqa_questions: 194 examples\n"
     ]
    }
   ],
   "source": [
    "for key in questions.keys():\n",
    "    print(f\"{key}: {len(questions[key])} examples\")"
   ]
  },
  {
   "cell_type": "code",
   "execution_count": 35,
   "metadata": {},
   "outputs": [
    {
     "name": "stdout",
     "output_type": "stream",
     "text": [
      "Number of questions: 103\n",
      "Mean tokens: 111.91\n",
      "Median tokens: 93.00\n",
      "Min tokens: 19\n",
      "Max tokens: 501\n",
      "\n",
      "Shortest question:\n",
      "Tokens: 19\n",
      "Query: Which organism has the smallest genome length?\n",
      "Which animal/plant/anything has smallest length genome?\n",
      "\n",
      "Longest question:\n",
      "Tokens: 501\n",
      "Query: Why does my room suddenly look 'reddish'? My eyes seem to adapt to color\n",
      "To get the context of this question clear, I would like you to walk through some parts of my house.\n",
      "We'll start with one of my rooms as it appears normally - area Y\n",
      "As evident, this part of my house has a creamish tinge to it, also the balcony door is open which further gives this room a yellow tint. Nothing special. I'll call it \"area Y\" (for yellow)*. Let's move on.\n",
      "area G\n",
      "Here we arrive in another part of my house which has greenish/blue shades acting as a sunlight blocker. This gives this entire place a greenish/blue tint as shown. (Ref. \"area G\")\n",
      "So, now let's visit the area Y again. I am always surprised with what my eyes now see. This. {1}\n",
      "enter image description here\n",
      "You see, the same room, same lightning, yet the room now looks much more reddish than before! That's what intrigues me, why does it happen? Why my eyes suddenly become sensitive to red color?\n",
      "I am not a biology student but I do know that our eyes have cones which specialize in color perception, and that there are different types of cone cells to perceive different types of colors (If I remember my high school biology correctly).\n",
      "So, I somewhat get a feeling of what's happening inside my eyes (or the brain perhaps?). I suspect that as I go to area G, my eyes 'adapt' to the dominance of bluish/green light, either by decreasing pigment of blue cones or by increasing pigment of red cones, which makes my eyes more sensitive to the other end of visible light spectrum (red-yellow), causing an 'outburst' of red coloration in area 'Y'. Since pigments need time to degrade, by the time the red color pigment of my cones decreases, its activity is less than normal. It may be increased as the blue pigment's activity is less than normal and I see a reddish tinge for few moments.\n",
      "This was a pure hypothesis from my part, but it seems correct to me. But why do my eyes even adapt to blue color? Why can't my eyes be unbiased towards colors?\n",
      "{1} Obviously I photoshopped the red tint in the image how else could I have replicated my vision? Though it's not the most accurate description of what I see it's still a very close approximation.\n"
     ]
    }
   ],
   "source": [
    "import tiktoken\n",
    "import numpy as np\n",
    "import matplotlib.pyplot as plt\n",
    "\n",
    "# Initialize the tokenizer\n",
    "enc = tiktoken.get_encoding(\"cl100k_base\")\n",
    "\n",
    "# Get all queries and count their tokens\n",
    "token_counts = []\n",
    "queries = []\n",
    "\n",
    "for example in questions[\"biology\"]:\n",
    "    query = example[\"query\"]\n",
    "    token_count = len(enc.encode(query))\n",
    "    token_counts.append(token_count)\n",
    "    queries.append(query)\n",
    "\n",
    "# Print statistics\n",
    "print(f\"Number of questions: {len(token_counts)}\")\n",
    "print(f\"Mean tokens: {np.mean(token_counts):.2f}\")\n",
    "print(f\"Median tokens: {np.median(token_counts):.2f}\")\n",
    "print(f\"Min tokens: {min(token_counts)}\")\n",
    "print(f\"Max tokens: {max(token_counts)}\")\n",
    "\n",
    "\n",
    "# Print examples of shortest and longest questions\n",
    "print(\"\\nShortest question:\")\n",
    "min_idx = token_counts.index(min(token_counts))\n",
    "print(f\"Tokens: {token_counts[min_idx]}\")\n",
    "print(f\"Query: {queries[min_idx]}\")\n",
    "\n",
    "print(\"\\nLongest question:\")\n",
    "max_idx = token_counts.index(max(token_counts))\n",
    "print(f\"Tokens: {token_counts[max_idx]}\")\n",
    "print(f\"Query: {queries[max_idx]}\")"
   ]
  },
  {
   "cell_type": "code",
   "execution_count": 38,
   "metadata": {},
   "outputs": [
    {
     "name": "stdout",
     "output_type": "stream",
     "text": [
      "Distribution of gold_ids_long counts:\n",
      "1 gold_ids: 79 examples\n",
      "2 gold_ids: 18 examples\n",
      "3 gold_ids: 5 examples\n",
      "4 gold_ids: 1 examples\n"
     ]
    }
   ],
   "source": [
    "# Count distribution of gold_ids_long lengths in biology split\n",
    "gold_ids_counts = [len(q[\"gold_ids_long\"]) for q in questions[\"biology\"]]\n",
    "count_distribution = {}\n",
    "for count in gold_ids_counts:\n",
    "    count_distribution[count] = count_distribution.get(count, 0) + 1\n",
    "\n",
    "# Print distribution sorted by count\n",
    "print(\"Distribution of gold_ids_long counts:\")\n",
    "for count in sorted(count_distribution.keys()):\n",
    "    print(f\"{count} gold_ids: {count_distribution[count]} examples\")"
   ]
  },
  {
   "cell_type": "code",
   "execution_count": 39,
   "metadata": {},
   "outputs": [
    {
     "name": "stdout",
     "output_type": "stream",
     "text": [
      "Distribution of gold_ids counts:\n",
      "1 gold_ids: 10 examples\n",
      "2 gold_ids: 26 examples\n",
      "3 gold_ids: 27 examples\n",
      "4 gold_ids: 17 examples\n",
      "5 gold_ids: 7 examples\n",
      "6 gold_ids: 10 examples\n",
      "7 gold_ids: 1 examples\n",
      "8 gold_ids: 1 examples\n",
      "9 gold_ids: 1 examples\n",
      "10 gold_ids: 1 examples\n",
      "13 gold_ids: 1 examples\n",
      "19 gold_ids: 1 examples\n"
     ]
    }
   ],
   "source": [
    "# Count distribution of gold_ids lengths in biology split\n",
    "gold_ids_counts = [len(q[\"gold_ids\"]) for q in questions[\"biology\"]]\n",
    "count_distribution = {}\n",
    "for count in gold_ids_counts:\n",
    "    count_distribution[count] = count_distribution.get(count, 0) + 1\n",
    "\n",
    "# Print distribution sorted by count\n",
    "print(\"Distribution of gold_ids counts:\")\n",
    "for count in sorted(count_distribution.keys()):\n",
    "    print(f\"{count} gold_ids: {count_distribution[count]} examples\")"
   ]
  }
 ],
 "metadata": {
  "kernelspec": {
   "display_name": "Python 3",
   "language": "python",
   "name": "python3"
  },
  "language_info": {
   "codemirror_mode": {
    "name": "ipython",
    "version": 3
   },
   "file_extension": ".py",
   "mimetype": "text/x-python",
   "name": "python",
   "nbconvert_exporter": "python",
   "pygments_lexer": "ipython3",
   "version": "3.10.10"
  }
 },
 "nbformat": 4,
 "nbformat_minor": 2
}
