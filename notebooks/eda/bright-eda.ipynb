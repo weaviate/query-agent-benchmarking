{
 "cells": [
  {
   "cell_type": "markdown",
   "metadata": {},
   "source": [
    "# BRIGHT EDA"
   ]
  },
  {
   "cell_type": "code",
   "execution_count": 1,
   "metadata": {},
   "outputs": [],
   "source": [
    "from datasets import load_dataset\n",
    "\n",
    "ds = load_dataset(\"xlangai/BRIGHT\", \"documents\");"
   ]
  },
  {
   "cell_type": "code",
   "execution_count": 2,
   "metadata": {},
   "outputs": [
    {
     "data": {
      "text/plain": [
       "dict_keys(['biology', 'earth_science', 'economics', 'psychology', 'robotics', 'stackoverflow', 'sustainable_living', 'pony', 'leetcode', 'aops', 'theoremqa_theorems', 'theoremqa_questions'])"
      ]
     },
     "execution_count": 2,
     "metadata": {},
     "output_type": "execute_result"
    }
   ],
   "source": [
    "ds.keys()"
   ]
  },
  {
   "cell_type": "code",
   "execution_count": 3,
   "metadata": {},
   "outputs": [
    {
     "data": {
      "text/plain": [
       "Dataset({\n",
       "    features: ['id', 'content'],\n",
       "    num_rows: 57359\n",
       "})"
      ]
     },
     "execution_count": 3,
     "metadata": {},
     "output_type": "execute_result"
    }
   ],
   "source": [
    "ds[\"biology\"]"
   ]
  },
  {
   "cell_type": "code",
   "execution_count": 4,
   "metadata": {},
   "outputs": [
    {
     "name": "stdout",
     "output_type": "stream",
     "text": [
      "Row 0\n",
      " pelvises; and proportionally shorter forearms and forelegs.\n",
      "Based on 45 Neanderthal long bones from 14 men and 7 women, the average height was 164 to 168 cm (5 ft 5 in to 5 ft 6 in) for males and 152 to 156 cm (5 ft 0 in to 5 ft 1 in) for females. For comparison, the average height of 20 males and 10 females Upper Palaeolithic humans is, respectively, 176.2 cm (5 ft 9.4 in) and 162.9\n",
      "\n",
      "\n",
      "Row 1\n",
      " Gorham's Cave, Gibraltar, were discovered, dated to older than 39,000 years ago, which the discoverers have interpreted as Neanderthal abstract art. The scratches could have also been produced by a bear. In 2021, an Irish elk phalanx with five engraved offset chevrons stacked above each other was discovered at the entrance to the Einhornhöhle cave in Germany, dating to about 51,000 years ago.\n",
      "In 2018, some red-painted dots, disks, lines and hand stencils on the cave walls of the Spanish La Pasie\n",
      "\n",
      "\n",
      "Row 2\n",
      " similar to modern hunter gatherers, and was born in the spring, which is consistent with modern humans and other mammals whose birth cycles coincide with environmental cycles. Indicated from various ailments resulting from high stress at a low age, such as stunted growth, British archaeologist Paul Pettitt hypothesised that children of both sexes were put to work directly after weaning; and Trinkaus said that, upon reaching adolescence, an individual may have been expected to join in hunting large and dangerous game. However, the bone trauma is comparable to modern Inuit, which could suggest a similar childhood between\n",
      "\n",
      "\n",
      "Row 3\n",
      "Consequences of loss[edit]\n",
      "It is likely that some level of adaptation occurred after the loss of the GULO gene by primates. Erythrocyte Glut1 and associated dehydroascorbic acid uptake modulated by stomatin switch are unique traits of humans and the few other mammals that have lost the ability to synthesize ascorbic acid from glucose. As GLUT transporters and stomatin are ubiquitously distributed in different human cell types and tissues, similar interactions may occur in human cells other than erythrocytes.\n",
      "Linus Pauling observed that after the loss of endogenous ascorbate production, apo(a) and Lp(a)  were greatly favored by evolution, acting as ascorbate surrogate, since the frequency of occurrence of elevated Lp(a) plasma levels in species that had lost the ability to synthesize ascorbate is great. Also, only primates share regulation of CAMP gene expression by vitamin D, which occurred after the loss of GULO gene.\n",
      "Johnson et al. have hypothesized that the mutation of the GULOP pseudogene so that it stopped producing GULO may have been of benefit to early primates by increasing uric acid levels and enhancing fructose effects on weight gain and fat accumulation. With a shortage of food supplies this gave mutants a survival advantage.\n",
      "\n",
      "\n",
      "Row 4\n",
      " the high mortality rates. Alternatively, many more Neanderthals may have received burials, but the graves were infiltrated and destroyed by bears. Given that 20 graves of Neanderthals aged under 4 have been found—over a third of all known graves—deceased children may have received greater care during burial than other age demographics.\n",
      "Looking at Neanderthal skeletons recovered from several natural rock shelters, Trinkaus said that, although Neanderthals were recorded as bearing several trauma-related injuries, none of them had significant trauma to the legs that would debilitate movement. He suggested that self\n",
      "\n",
      "\n"
     ]
    }
   ],
   "source": [
    "for i in range(5):\n",
    "    print(f\"Row {i}\")\n",
    "    print(ds[\"biology\"][i][\"content\"])\n",
    "    print(\"\\n\")"
   ]
  },
  {
   "cell_type": "code",
   "execution_count": 5,
   "metadata": {},
   "outputs": [],
   "source": [
    "questions = load_dataset(\"xlangai/BRIGHT\", \"examples\")"
   ]
  },
  {
   "cell_type": "code",
   "execution_count": 12,
   "metadata": {},
   "outputs": [
    {
     "data": {
      "text/plain": [
       "{'query': 'Claim in article about why insects are attracted to light\\nIn this article they are addressing the reason insects are attracted to light when they say\\nHeat radiation as an attractive component is refuted by the effect of LED lighting, which supplies negligible infrared radiation yet still entraps vast numbers of insects.\\nI don\\'t see why attraction to LEDs shows they\\'re not seeking heat. Could they for example be evolutionarily programmed to associate light with heat? So that even though they don\\'t encounter heat near/on the LEDs they still \"expect\" to?',\n",
       " 'reasoning': 'The question probes why insects are drawn to low-heat LED lights, challenging the idea that their attraction to light is heat-based. The document helps distinguish between heat attraction and evolved behaviors, shedding light on why insects might be attracted to LEDs despite their minimal heat.',\n",
       " 'id': '0',\n",
       " 'excluded_ids': ['N/A'],\n",
       " 'gold_ids_long': ['insects_attracted_to_light/Proximate_and_ultimate_causation.txt',\n",
       "  'insects_attracted_to_light/Phototaxis.txt'],\n",
       " 'gold_ids': ['insects_attracted_to_light/Proximate_and_ultimate_causation_0.txt',\n",
       "  'insects_attracted_to_light/Proximate_and_ultimate_causation_1.txt',\n",
       "  'insects_attracted_to_light/Phototaxis_0.txt',\n",
       "  'insects_attracted_to_light/Phototaxis_3.txt',\n",
       "  'insects_attracted_to_light/Phototaxis_4.txt'],\n",
       " 'gold_answer': \"$\\\\begingroup$\\n\\nThey're looking for and describing _proximate_ relationships (see e.g. [\\nhttps://en.wikipedia.org/wiki/Proximate_and_ultimate_causation\\n](https://en.wikipedia.org/wiki/Proximate_and_ultimate_causation) ).\\n\\nIf the light isn't warm and insects still move towards it, that means they're\\nnot _using heat_ to make the decision where to move. They're not saying\\nanything about the ultimate underlying motives, just the immediate proximate\\nmechanism.\\n\\nTheir alternative model is that it's based on orientation to the sky, by which\\ninsects point the top of their body (dorsal surface) toward light; if the sky\\nis bright that would keep them oriented back-upward, but if it's a point\\nsource near the ground keeping their back towards the light causes them to fly\\nin circles around the light:\\n\\n> Our guidance model demonstrates that this dorsal tilting is sufficient to\\n> create the seemingly erratic flight paths of insects near lights and is the\\n> most plausible model for why flying insects gather at artificial lights.\\n\\nSo, if you want to propose heat-seeking as a better hypothesis, you'd need to\\nprovide data that would explain why this dorsal facing tilt would make sense\\nfor an insect seeking heat.\"}"
      ]
     },
     "execution_count": 12,
     "metadata": {},
     "output_type": "execute_result"
    }
   ],
   "source": [
    "questions[\"biology\"][0]"
   ]
  },
  {
   "cell_type": "code",
   "execution_count": 13,
   "metadata": {},
   "outputs": [
    {
     "data": {
      "text/plain": [
       "{'id': 'neanderthals_vitamin_C_diet/Neanderthal_0_43.txt',\n",
       " 'content': ' pelvises; and proportionally shorter forearms and forelegs.\\nBased on 45 Neanderthal long bones from 14 men and 7 women, the average height was 164 to 168\\xa0cm (5\\xa0ft 5\\xa0in to 5\\xa0ft 6\\xa0in) for males and 152 to 156\\xa0cm (5\\xa0ft 0\\xa0in to 5\\xa0ft 1\\xa0in) for females. For comparison, the average height of 20 males and 10 females Upper Palaeolithic humans is, respectively, 176.2\\xa0cm (5\\xa0ft 9.4\\xa0in) and 162.9'}"
      ]
     },
     "execution_count": 13,
     "metadata": {},
     "output_type": "execute_result"
    }
   ],
   "source": [
    "ds[\"biology\"][0]"
   ]
  },
  {
   "cell_type": "code",
   "execution_count": 6,
   "metadata": {},
   "outputs": [
    {
     "name": "stdout",
     "output_type": "stream",
     "text": [
      "biology: 103 examples\n",
      "earth_science: 116 examples\n",
      "economics: 103 examples\n",
      "psychology: 101 examples\n",
      "robotics: 101 examples\n",
      "stackoverflow: 117 examples\n",
      "sustainable_living: 108 examples\n",
      "pony: 112 examples\n",
      "leetcode: 142 examples\n",
      "aops: 111 examples\n",
      "theoremqa_theorems: 76 examples\n",
      "theoremqa_questions: 194 examples\n"
     ]
    }
   ],
   "source": [
    "for key in questions.keys():\n",
    "    print(f\"{key}: {len(questions[key])} examples\")"
   ]
  },
  {
   "cell_type": "code",
   "execution_count": 7,
   "metadata": {},
   "outputs": [
    {
     "name": "stdout",
     "output_type": "stream",
     "text": [
      "Number of questions: 103\n",
      "Mean tokens: 111.91\n",
      "Median tokens: 93.00\n",
      "Min tokens: 19\n",
      "Max tokens: 501\n",
      "\n",
      "Shortest question:\n",
      "Tokens: 19\n",
      "Query: Which organism has the smallest genome length?\n",
      "Which animal/plant/anything has smallest length genome?\n",
      "\n",
      "Longest question:\n",
      "Tokens: 501\n",
      "Query: Why does my room suddenly look 'reddish'? My eyes seem to adapt to color\n",
      "To get the context of this question clear, I would like you to walk through some parts of my house.\n",
      "We'll start with one of my rooms as it appears normally - area Y\n",
      "As evident, this part of my house has a creamish tinge to it, also the balcony door is open which further gives this room a yellow tint. Nothing special. I'll call it \"area Y\" (for yellow)*. Let's move on.\n",
      "area G\n",
      "Here we arrive in another part of my house which has greenish/blue shades acting as a sunlight blocker. This gives this entire place a greenish/blue tint as shown. (Ref. \"area G\")\n",
      "So, now let's visit the area Y again. I am always surprised with what my eyes now see. This. {1}\n",
      "enter image description here\n",
      "You see, the same room, same lightning, yet the room now looks much more reddish than before! That's what intrigues me, why does it happen? Why my eyes suddenly become sensitive to red color?\n",
      "I am not a biology student but I do know that our eyes have cones which specialize in color perception, and that there are different types of cone cells to perceive different types of colors (If I remember my high school biology correctly).\n",
      "So, I somewhat get a feeling of what's happening inside my eyes (or the brain perhaps?). I suspect that as I go to area G, my eyes 'adapt' to the dominance of bluish/green light, either by decreasing pigment of blue cones or by increasing pigment of red cones, which makes my eyes more sensitive to the other end of visible light spectrum (red-yellow), causing an 'outburst' of red coloration in area 'Y'. Since pigments need time to degrade, by the time the red color pigment of my cones decreases, its activity is less than normal. It may be increased as the blue pigment's activity is less than normal and I see a reddish tinge for few moments.\n",
      "This was a pure hypothesis from my part, but it seems correct to me. But why do my eyes even adapt to blue color? Why can't my eyes be unbiased towards colors?\n",
      "{1} Obviously I photoshopped the red tint in the image how else could I have replicated my vision? Though it's not the most accurate description of what I see it's still a very close approximation.\n"
     ]
    }
   ],
   "source": [
    "import tiktoken\n",
    "import numpy as np\n",
    "\n",
    "# Initialize the tokenizer\n",
    "enc = tiktoken.get_encoding(\"cl100k_base\")\n",
    "\n",
    "# Get all queries and count their tokens\n",
    "token_counts = []\n",
    "queries = []\n",
    "\n",
    "for example in questions[\"biology\"]:\n",
    "    query = example[\"query\"]\n",
    "    token_count = len(enc.encode(query))\n",
    "    token_counts.append(token_count)\n",
    "    queries.append(query)\n",
    "\n",
    "# Print statistics\n",
    "print(f\"Number of questions: {len(token_counts)}\")\n",
    "print(f\"Mean tokens: {np.mean(token_counts):.2f}\")\n",
    "print(f\"Median tokens: {np.median(token_counts):.2f}\")\n",
    "print(f\"Min tokens: {min(token_counts)}\")\n",
    "print(f\"Max tokens: {max(token_counts)}\")\n",
    "\n",
    "\n",
    "# Print examples of shortest and longest questions\n",
    "print(\"\\nShortest question:\")\n",
    "min_idx = token_counts.index(min(token_counts))\n",
    "print(f\"Tokens: {token_counts[min_idx]}\")\n",
    "print(f\"Query: {queries[min_idx]}\")\n",
    "\n",
    "print(\"\\nLongest question:\")\n",
    "max_idx = token_counts.index(max(token_counts))\n",
    "print(f\"Tokens: {token_counts[max_idx]}\")\n",
    "print(f\"Query: {queries[max_idx]}\")"
   ]
  },
  {
   "cell_type": "code",
   "execution_count": 10,
   "metadata": {},
   "outputs": [
    {
     "name": "stdout",
     "output_type": "stream",
     "text": [
      "Distribution of gold_ids counts:\n",
      "1 gold_ids: 10 examples\n",
      "2 gold_ids: 26 examples\n",
      "3 gold_ids: 27 examples\n",
      "4 gold_ids: 17 examples\n",
      "5 gold_ids: 7 examples\n",
      "6 gold_ids: 10 examples\n",
      "7 gold_ids: 1 examples\n",
      "8 gold_ids: 1 examples\n",
      "9 gold_ids: 1 examples\n",
      "10 gold_ids: 1 examples\n",
      "13 gold_ids: 1 examples\n",
      "19 gold_ids: 1 examples\n"
     ]
    }
   ],
   "source": [
    "# Count distribution of gold_ids lengths in biology split\n",
    "gold_ids_counts = [len(q[\"gold_ids\"]) for q in questions[\"biology\"]]\n",
    "count_distribution = {}\n",
    "for count in gold_ids_counts:\n",
    "    count_distribution[count] = count_distribution.get(count, 0) + 1\n",
    "\n",
    "# Print distribution sorted by count\n",
    "print(\"Distribution of gold_ids counts:\")\n",
    "for count in sorted(count_distribution.keys()):\n",
    "    print(f\"{count} gold_ids: {count_distribution[count]} examples\")"
   ]
  },
  {
   "cell_type": "code",
   "execution_count": null,
   "metadata": {},
   "outputs": [],
   "source": []
  }
 ],
 "metadata": {
  "kernelspec": {
   "display_name": "Python 3",
   "language": "python",
   "name": "python3"
  },
  "language_info": {
   "codemirror_mode": {
    "name": "ipython",
    "version": 3
   },
   "file_extension": ".py",
   "mimetype": "text/x-python",
   "name": "python",
   "nbconvert_exporter": "python",
   "pygments_lexer": "ipython3",
   "version": "3.10.10"
  }
 },
 "nbformat": 4,
 "nbformat_minor": 2
}
