{
 "cells": [
  {
   "cell_type": "markdown",
   "metadata": {},
   "source": [
    "# FreshStack EDA"
   ]
  },
  {
   "cell_type": "markdown",
   "metadata": {},
   "source": [
    "### Knowledge Base"
   ]
  },
  {
   "cell_type": "code",
   "execution_count": 2,
   "metadata": {},
   "outputs": [],
   "source": [
    "from datasets import load_dataset\n",
    "\n",
    "docs = load_dataset(\"freshstack/corpus-oct-2024\", \"langchain\")"
   ]
  },
  {
   "cell_type": "code",
   "execution_count": 3,
   "metadata": {},
   "outputs": [
    {
     "data": {
      "text/plain": [
       "DatasetDict({\n",
       "    train: Dataset({\n",
       "        features: ['_id', 'text', 'metadata'],\n",
       "        num_rows: 49514\n",
       "    })\n",
       "})"
      ]
     },
     "execution_count": 3,
     "metadata": {},
     "output_type": "execute_result"
    }
   ],
   "source": [
    "docs"
   ]
  },
  {
   "cell_type": "code",
   "execution_count": 40,
   "metadata": {},
   "outputs": [
    {
     "data": {
      "text/plain": [
       "Dataset({\n",
       "    features: ['_id', 'text', 'metadata'],\n",
       "    num_rows: 49514\n",
       "})"
      ]
     },
     "execution_count": 40,
     "metadata": {},
     "output_type": "execute_result"
    }
   ],
   "source": [
    "docs[\"train\"]"
   ]
  },
  {
   "cell_type": "code",
   "execution_count": 49,
   "metadata": {},
   "outputs": [
    {
     "data": {
      "text/plain": [
       "'azure-openai/Basic_Samples/README.md_0_4106'"
      ]
     },
     "execution_count": 49,
     "metadata": {},
     "output_type": "execute_result"
    }
   ],
   "source": [
    "docs[\"train\"][6][\"_id\"]"
   ]
  },
  {
   "cell_type": "code",
   "execution_count": 50,
   "metadata": {},
   "outputs": [
    {
     "name": "stdout",
     "output_type": "stream",
     "text": [
      "# Basic Samples\n",
      "\n",
      "These are small code samples and snippets which complete small sets of actions and can be integrated into the user code.\n",
      "\n",
      "### AAD Integration\n",
      "\n",
      "| Sample | Language |\n",
      "| --- | --- |\n",
      "| [AAD integration REST API](./AAD_Integration/aad_integration_example_restapi.ipynb) | Python |\n",
      "| [AAD integration Python SDK](./AAD_Integration/aad_integration_example_sdk.ipynb) | Python |\n",
      "\n",
      "### Chat\n",
      "\n",
      "| Sample | Language |\n",
      "| --- | --- |\n",
      "| [Basic chat completions .NET SDK](./Chat/dotnet/csharp/chat.ipynb) | .NET |\n",
      "| [Basic chat completions Python SDK](./Chat/basic_chatcompletions_example_sdk.ipynb) | Python |\n",
      "| [Chat with your own data .NET SDK](./Chat/dotnet/csharp/Chat_with_your_own_data.ipynb) | .NET |\n",
      "| [Chat with your own data](./Chat/chat_with_your_own_data.ipynb) | Python |\n",
      "| [ChatGPT managing conversations](./Chat/chatGPT_managing_conversation.ipynb) | Python |\n",
      "| [Entity extraction for long documents](./Chat/dotnet/csharp/Entity_extraction_for_long_documents.ipynb) | .NET |\n",
      "\n",
      "### Completions\n",
      "\n",
      "| Sample | Language |\n",
      "| --- | --- |\n",
      "| [Basic Completions REST API](./Completions/basic_completions_example_restapi.ipynb) | Python |\n",
      "| [Basic Completions Python SDK](./Completions/basic_completions_example_sdk.ipynb) | Python |\n",
      "| [Basic Completions Dynamic Prompt](./Completions/completions_with_dynamic_prompt.ipynb) | Python |\n",
      "\n",
      "### DALL-E\n",
      "\n",
      "| Sample | Language |\n",
      "| --- | --- |\n",
      "| [Generate images using DALL-E](./DALL-E/dotnet/csharp/DALL-E.ipynb) | .NET | \n",
      "\n",
      "### Datastores\n",
      "\n",
      "| Sample | Language |\n",
      "| --- | --- |\n",
      "| [Search GitHub Issues using Vector Search (Qdrant)](./Datastores/dotnet/csharp/Ingest_Github_Issues_Qdrant.ipynb) | .NET |\n",
      "| [Getting Started Milvus](./Datastores/dotnet/csharp/Getting-Started-Milvus.ipynb) | .NET |\n",
      "| [Question Answering Using Vector Search (Milvus)](./Datastores/dotnet/csharp/Question_answering_using_vector_store_search_milvus.ipynb) | .NET | \n",
      "| [Question Answering Using Vector Search (Qadrant)](./Datastores/dotnet/csharp/Question_answering_using_vector_store_search_qdrant.ipynb) | .NET | \n",
      "\n",
      "### Embeddings\n",
      "\n",
      "| Sample | Language |\n",
      "| --- | --- |\n",
      "| [Get embeddings](./Embeddings/dotnet/csharp/Get_embeddings.ipynb) | .NET |\n",
      "| [Clustering using embeddings](./Embeddings/dotnet/csharp/Clustering.ipynb) | .NET |\n",
      "| [Embedding long inputs](./Embeddings/dotnet/csharp/Embedding_long_inputs.ipynb) | .NET |\n",
      "| [Embedding Wikipedia articles for search](./Embeddings/dotnet/csharp/Embedding_Wikipedia_articles_for_search.ipynb) | .NET |\n",
      "| [Get embeddings from a dataset](./Embeddings/dotnet/csharp/Get_embeddings.ipynb) | .NET |\n",
      "| [Labeling GitHub issues using Embeddings](./Embeddings/dotnet/csharp/Labelling_github_issues_with_embeddings.ipynb) | .NET |\n",
      "| [Question Answering using embeddings](./Embeddings/dotnet/csharp/Question_answering_using_embeddings.ipynb) | .NET |\n",
      "| [Question Answering using embeddings](./Embeddings/dotnet/csharp/Question_answering_using_embeddings.ipynb) | .NET |\n",
      "| [Semantic text search using fusion retriever architecture](./Embeddings/dotnet/csharp/Question_answering_using_fusion_retriever_architecture.ipynb) | .NET |\n",
      "| [Zero-shot classification with embeddings](./Embeddings/dotnet/csharp/Zero-shot_classification_with_embeddings.ipynb) | .NET |\n",
      "| [Basic Embeddings REST API](./Embeddings/basic_embeddings_example_restapi.ipynb) | Python |\n",
      "| [Basic Embedding SDK](./Embeddings/basic_embeddings_example_sdk.ipynb) | Python |\n",
      "\n",
      "### Functions\n",
      "\n",
      "| Sample | Language |\n",
      "| --- | --- |\n",
      "| [Function calling finding nearby places](./Functions/dotnet/csharp/Function_calling_finding_nearby_places.ipynb) | .NET |\n",
      "| [Working with Functions](./Functions/working_with_functions.ipynb) | Python |\n",
      "| [Functions with Azure Search](./Functions/functions_with_azure_search.ipynb) | Python |\n",
      "\n",
      "### LangChain\n",
      "\n",
      "| Sample | Language |\n",
      "| --- | --- |\n",
      "| [Working with LangChain](./LangChain/working_with_langchain.ipynb) | Python |\n",
      "\n",
      "### Whisper\n",
      "\n",
      "| Sample | Language |\n",
      "| --- | --- |\n",
      "| [Whisper Processing Guide](./Whisper/dotnet/csharp/Whisper_processing_guide.ipynb) | .NET |\n",
      "| [Whisper Prompting Guide](./Whisper/dotnet/csharp/Whisper_prompting_guide.ipynb) | .NET | \n",
      "\n"
     ]
    }
   ],
   "source": [
    "print(docs[\"train\"][6][\"text\"])"
   ]
  },
  {
   "cell_type": "code",
   "execution_count": 52,
   "metadata": {},
   "outputs": [
    {
     "data": {
      "image/png": "[encoded data removed]",
      "text/plain": [
       "<Figure size 1200x600 with 1 Axes>"
      ]
     },
     "metadata": {},
     "output_type": "display_data"
    },
    {
     "name": "stdout",
     "output_type": "stream",
     "text": [
      "Token count statistics:\n",
      "Mean: 1060.37\n",
      "Median: 1106.00\n",
      "Min: 1\n",
      "Max: 2039\n",
      "Standard deviation: 745.47\n"
     ]
    }
   ],
   "source": [
    "import tiktoken\n",
    "import matplotlib.pyplot as plt\n",
    "import numpy as np\n",
    "\n",
    "# Initialize the tokenizer (using cl100k_base which is used by GPT-4)\n",
    "tokenizer = tiktoken.get_encoding(\"cl100k_base\")\n",
    "\n",
    "# Count tokens for each document\n",
    "token_counts = []\n",
    "for doc in docs[\"train\"]:\n",
    "    text = doc[\"text\"]\n",
    "    # Disable special token checking to handle <|endoftext|> tokens\n",
    "    token_count = len(tokenizer.encode(text, disallowed_special=()))\n",
    "    token_counts.append(token_count)\n",
    "\n",
    "# Create the distribution plot\n",
    "plt.figure(figsize=(12, 6))\n",
    "plt.hist(token_counts, bins=50, alpha=0.7, edgecolor='black')\n",
    "plt.xlabel('Number of Tokens')\n",
    "plt.ylabel('Frequency')\n",
    "plt.title('Distribution of Token Counts in FreshStack Documents')\n",
    "plt.grid(True, alpha=0.3)\n",
    "\n",
    "# Add some statistics to the plot\n",
    "mean_tokens = np.mean(token_counts)\n",
    "median_tokens = np.median(token_counts)\n",
    "plt.axvline(mean_tokens, color='red', linestyle='--', label=f'Mean: {mean_tokens:.0f}')\n",
    "plt.axvline(median_tokens, color='orange', linestyle='--', label=f'Median: {median_tokens:.0f}')\n",
    "plt.legend()\n",
    "\n",
    "plt.tight_layout()\n",
    "plt.show()\n",
    "\n",
    "# Print summary statistics\n",
    "print(\"Token count statistics:\")\n",
    "print(f\"Mean: {mean_tokens:.2f}\")\n",
    "print(f\"Median: {median_tokens:.2f}\")\n",
    "print(f\"Min: {min(token_counts)}\")\n",
    "print(f\"Max: {max(token_counts)}\")\n",
    "print(f\"Standard deviation: {np.std(token_counts):.2f}\")\n"
   ]
  },
  {
   "cell_type": "code",
   "execution_count": 4,
   "metadata": {},
   "outputs": [
    {
     "data": {
      "text/plain": [
       "{'end_byte': 4106,\n",
       " 'start_byte': 0,\n",
       " 'url': 'https://github.com/Azure-Samples/openai/blob/main/Basic_Samples/README.md'}"
      ]
     },
     "execution_count": 4,
     "metadata": {},
     "output_type": "execute_result"
    }
   ],
   "source": [
    "docs[\"train\"][6][\"metadata\"]"
   ]
  },
  {
   "cell_type": "markdown",
   "metadata": {},
   "source": [
    "### Queries"
   ]
  },
  {
   "cell_type": "code",
   "execution_count": 4,
   "metadata": {},
   "outputs": [
    {
     "data": {
      "application/vnd.jupyter.widget-view+json": {
       "model_id": "d7dcd4a4985340f4a863a9aa600e21b1",
       "version_major": 2,
       "version_minor": 0
      },
      "text/plain": [
       "Downloading readme:   0%|          | 0.00/7.10k [00:00<?, ?B/s]"
      ]
     },
     "metadata": {},
     "output_type": "display_data"
    },
    {
     "data": {
      "application/vnd.jupyter.widget-view+json": {
       "model_id": "1a7af96984dc4491a2cc8957ee79a066",
       "version_major": 2,
       "version_minor": 0
      },
      "text/plain": [
       "Downloading data:   0%|          | 0.00/661k [00:00<?, ?B/s]"
      ]
     },
     "metadata": {},
     "output_type": "display_data"
    },
    {
     "data": {
      "application/vnd.jupyter.widget-view+json": {
       "model_id": "34ca985446a54d63b3fde706bae2f2f3",
       "version_major": 2,
       "version_minor": 0
      },
      "text/plain": [
       "Generating test split:   0%|          | 0/203 [00:00<?, ? examples/s]"
      ]
     },
     "metadata": {},
     "output_type": "display_data"
    }
   ],
   "source": [
    "queries = load_dataset(\"freshstack/queries-oct-2024\", \"langchain\")"
   ]
  },
  {
   "cell_type": "code",
   "execution_count": 14,
   "metadata": {},
   "outputs": [
    {
     "data": {
      "text/plain": [
       "DatasetDict({\n",
       "    test: Dataset({\n",
       "        features: ['query_id', 'query_title', 'query_text', 'nuggets', 'answer_id', 'answer_text', 'metadata'],\n",
       "        num_rows: 203\n",
       "    })\n",
       "})"
      ]
     },
     "execution_count": 14,
     "metadata": {},
     "output_type": "execute_result"
    }
   ],
   "source": [
    "queries"
   ]
  },
  {
   "cell_type": "code",
   "execution_count": 28,
   "metadata": {},
   "outputs": [
    {
     "data": {
      "text/plain": [
       "dict_keys(['query_id', 'query_title', 'query_text', 'nuggets', 'answer_id', 'answer_text', 'metadata'])"
      ]
     },
     "execution_count": 28,
     "metadata": {},
     "output_type": "execute_result"
    }
   ],
   "source": [
    "queries[\"test\"][0].keys()"
   ]
  },
  {
   "cell_type": "code",
   "execution_count": 27,
   "metadata": {},
   "outputs": [
    {
     "data": {
      "text/plain": [
       "'issue parsing json file with Langchain'"
      ]
     },
     "execution_count": 27,
     "metadata": {},
     "output_type": "execute_result"
    }
   ],
   "source": [
    "queries[\"test\"][0][\"query_title\"]"
   ]
  },
  {
   "cell_type": "code",
   "execution_count": 25,
   "metadata": {},
   "outputs": [
    {
     "data": {
      "text/plain": [
       "'The JSON file contains an array of JavaScript objects, each representing a job.'"
      ]
     },
     "execution_count": 25,
     "metadata": {},
     "output_type": "execute_result"
    }
   ],
   "source": [
    "queries[\"test\"][0][\"nuggets\"][0][\"text\"]"
   ]
  },
  {
   "cell_type": "code",
   "execution_count": 21,
   "metadata": {},
   "outputs": [
    {
     "data": {
      "text/plain": [
       "['azure-search-openai-demo/tests/test_jsonparser.py_0_945',\n",
       " 'azure-search-openai-demo/app/backend/prepdocslib/jsonparser.py_0_803',\n",
       " 'llama_index/llama-index-legacy/tests/node_parser/test_json.py_0_1502',\n",
       " 'llama_index/llama-index-core/tests/node_parser/test_json.py_0_1498',\n",
       " 'langchainjs/docs/core_docs/docs/how_to/document_loaders_json.mdx_0_2510',\n",
       " 'langchainjs/docs/core_docs/docs/integrations/document_loaders/file_loaders/json.mdx_0_2115',\n",
       " 'langchainjs/langchain/src/document_loaders/tests/json.test.ts_0_3256',\n",
       " 'langchain/docs/docs/how_to/document_loader_json.mdx_0_8249']"
      ]
     },
     "execution_count": 21,
     "metadata": {},
     "output_type": "execute_result"
    }
   ],
   "source": [
    "queries[\"test\"][0][\"nuggets\"][0][\"relevant_corpus_ids\"]"
   ]
  },
  {
   "cell_type": "code",
   "execution_count": 29,
   "metadata": {},
   "outputs": [
    {
     "data": {
      "text/plain": [
       "3"
      ]
     },
     "execution_count": 29,
     "metadata": {},
     "output_type": "execute_result"
    }
   ],
   "source": [
    "len(queries[\"test\"][0][\"nuggets\"])"
   ]
  },
  {
   "cell_type": "code",
   "execution_count": 31,
   "metadata": {},
   "outputs": [
    {
     "name": "stdout",
     "output_type": "stream",
     "text": [
      "Nugget 1:\n",
      "The JSON file contains an array of JavaScript objects, each representing a job.\n",
      "--------------------------------------------------\n",
      "Nugget 2:\n",
      "The parser is currently treating each property of the JavaScript objects as separate documents.\n",
      "--------------------------------------------------\n",
      "Nugget 3:\n",
      "The parser should be configured to treat each JavaScript object as a single document.\n",
      "--------------------------------------------------\n"
     ]
    }
   ],
   "source": [
    "# Pretty print all nuggets for the first test query\n",
    "for i, nugget in enumerate(queries[\"test\"][0][\"nuggets\"]):\n",
    "    print(f\"Nugget {i+1}:\")\n",
    "    print(f\"{nugget['text']}\")\n",
    "    print(\"-\" * 50)"
   ]
  },
  {
   "cell_type": "code",
   "execution_count": 34,
   "metadata": {},
   "outputs": [
    {
     "name": "stdout",
     "output_type": "stream",
     "text": [
      "['langchainjs/docs/core_docs/docs/how_to/document_loaders_json.mdx_0_2510', 'langchainjs/docs/core_docs/docs/integrations/document_loaders/file_loaders/json.mdx_0_2115', 'langchainjs/langchain/src/document_loaders/tests/json-blob.test.ts_0_2760', 'langchainjs/langchain/src/document_loaders/tests/json.test.ts_0_3256', 'langchain/docs/docs/how_to/document_loader_json.mdx_9684_15962', 'langchain/docs/docs/integrations/document_loaders/json.ipynb_0_7310', 'langchain/libs/community/tests/unit_tests/document_loaders/test_json_loader.py_7383_12150']\n",
      "7\n"
     ]
    }
   ],
   "source": [
    "print(queries[\"test\"][0][\"nuggets\"][1][\"relevant_corpus_ids\"])\n",
    "print(len(queries[\"test\"][0][\"nuggets\"][1][\"relevant_corpus_ids\"])) # prints 7"
   ]
  },
  {
   "cell_type": "code",
   "execution_count": 37,
   "metadata": {},
   "outputs": [
    {
     "name": "stdout",
     "output_type": "stream",
     "text": [
      "Total number of relevant corpus ids across all queries: 3617\n",
      "Average relevant corpus ids per query: 17.82\n",
      "Average relevant corpus ids per nugget: 5.66\n",
      "Average nuggets per query: 3.15\n",
      "\n",
      "Distribution of nuggets per query:\n",
      "1 nuggets: 2 queries (0.99%)\n",
      "2 nuggets: 58 queries (28.57%)\n",
      "3 nuggets: 84 queries (41.38%)\n",
      "4 nuggets: 38 queries (18.72%)\n",
      "5 nuggets: 12 queries (5.91%)\n",
      "6 nuggets: 7 queries (3.45%)\n",
      "7 nuggets: 1 queries (0.49%)\n",
      "8 nuggets: 1 queries (0.49%)\n"
     ]
    },
    {
     "data": {
      "image/png": "[encoded data removed]",
      "text/plain": [
       "<Figure size 1200x600 with 1 Axes>"
      ]
     },
     "metadata": {},
     "output_type": "display_data"
    },
    {
     "data": {
      "image/png": "[encoded data removed]",
      "text/plain": [
       "<Figure size 1000x600 with 1 Axes>"
      ]
     },
     "metadata": {},
     "output_type": "display_data"
    }
   ],
   "source": [
    "# Calculate the total number of relevant corpus ids per query\n",
    "import matplotlib.pyplot as plt\n",
    "from collections import Counter\n",
    "\n",
    "# Initialize list to store the sum of relevant corpus ids per query\n",
    "query_corpus_ids = []\n",
    "query_titles = []\n",
    "\n",
    "# Iterate through all queries and calculate sum for each\n",
    "for query in queries[\"test\"]:\n",
    "    # Sum the relevant corpus ids for all nuggets in this query\n",
    "    query_sum = sum(len(nugget[\"relevant_corpus_ids\"]) for nugget in query[\"nuggets\"])\n",
    "    query_corpus_ids.append(query_sum)\n",
    "    query_titles.append(query[\"query_title\"])\n",
    "\n",
    "# Calculate total across all queries\n",
    "total_relevant_corpus_ids = sum(query_corpus_ids)\n",
    "print(f\"Total number of relevant corpus ids across all queries: {total_relevant_corpus_ids}\")\n",
    "\n",
    "# Calculate average per query\n",
    "print(f\"Average relevant corpus ids per query: {total_relevant_corpus_ids / len(queries['test']):.2f}\")\n",
    "\n",
    "# Also calculate average per nugget\n",
    "total_nuggets = sum(len(query[\"nuggets\"]) for query in queries[\"test\"])\n",
    "print(f\"Average relevant corpus ids per nugget: {total_relevant_corpus_ids / total_nuggets:.2f}\")\n",
    "\n",
    "# Calculate average nuggets per query\n",
    "avg_nuggets_per_query = total_nuggets / len(queries['test'])\n",
    "print(f\"Average nuggets per query: {avg_nuggets_per_query:.2f}\")\n",
    "\n",
    "# Count nuggets per query\n",
    "nugget_counts = [len(query[\"nuggets\"]) for query in queries[\"test\"]]\n",
    "count_distribution = Counter(nugget_counts)\n",
    "\n",
    "# Print the distribution\n",
    "print(\"\\nDistribution of nuggets per query:\")\n",
    "for count, frequency in sorted(count_distribution.items()):\n",
    "    print(f\"{count} nuggets: {frequency} queries ({frequency/len(queries['test'])*100:.2f}%)\")\n",
    "\n",
    "# Create a graph of relevant corpus ids per query\n",
    "plt.figure(figsize=(12, 6))\n",
    "plt.bar(range(len(query_corpus_ids)), query_corpus_ids)\n",
    "plt.xlabel('Query Index')\n",
    "plt.ylabel('Number of Relevant Corpus IDs')\n",
    "plt.title('Sum of Relevant Corpus IDs per Query')\n",
    "plt.tight_layout()\n",
    "plt.show()\n",
    "\n",
    "# Create a histogram of the distribution\n",
    "plt.figure(figsize=(10, 6))\n",
    "plt.hist(query_corpus_ids, bins=20, edgecolor='black')\n",
    "plt.xlabel('Number of Relevant Corpus IDs')\n",
    "plt.ylabel('Number of Queries')\n",
    "plt.title('Distribution of Relevant Corpus IDs per Query')\n",
    "plt.grid(alpha=0.3)\n",
    "plt.show()"
   ]
  },
  {
   "cell_type": "code",
   "execution_count": null,
   "metadata": {},
   "outputs": [],
   "source": []
  }
 ],
 "metadata": {
  "kernelspec": {
   "display_name": "Python 3",
   "language": "python",
   "name": "python3"
  },
  "language_info": {
   "codemirror_mode": {
    "name": "ipython",
    "version": 3
   },
   "file_extension": ".py",
   "mimetype": "text/x-python",
   "name": "python",
   "nbconvert_exporter": "python",
   "pygments_lexer": "ipython3",
   "version": "3.10.10"
  }
 },
 "nbformat": 4,
 "nbformat_minor": 2
}
