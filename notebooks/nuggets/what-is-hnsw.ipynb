{
 "cells": [
  {
   "cell_type": "markdown",
   "metadata": {},
   "source": [
    "# What is HNSW?\n",
    "\n",
    "### An Investigation into Document Relevance Labeling\n",
    "\n",
    "How many of the 500 token chunks from Weaviate's blog posts are relevant for the question -- What is HNSW?\n",
    "\n",
    "As judged by the Transformation Agent... 138!"
   ]
  },
  {
   "cell_type": "code",
   "execution_count": 2,
   "metadata": {},
   "outputs": [],
   "source": [
    "import os\n",
    "import weaviate\n",
    "\n",
    "weaviate_client = weaviate.connect_to_weaviate_cloud(\n",
    "    cluster_url=os.getenv(\"WEAVIATE_URL\"),\n",
    "    auth_credentials=weaviate.auth.AuthApiKey(os.getenv(\"WEAVIATE_API_KEY\")),\n",
    ")"
   ]
  },
  {
   "cell_type": "code",
   "execution_count": 3,
   "metadata": {},
   "outputs": [],
   "source": [
    "weaviate_blogs = weaviate_client.collections.get(\"Blogs\")"
   ]
  },
  {
   "cell_type": "code",
   "execution_count": 7,
   "metadata": {},
   "outputs": [
    {
     "data": {
      "text/plain": [
       "{'workflow_id': 'TransformationWorkflow-56c75ebf02bcde53a3dc7bf539912d82',\n",
       " 'status': {'batch_count': 0,\n",
       "  'end_time': None,\n",
       "  'start_time': '2025-05-22 23:12:00',\n",
       "  'state': 'running',\n",
       "  'total_duration': None,\n",
       "  'total_items': 0}}"
      ]
     },
     "execution_count": 7,
     "metadata": {},
     "output_type": "execute_result"
    }
   ],
   "source": [
    "from weaviate.agents.transformation import TransformationAgent\n",
    "from weaviate.agents.classes import Operations\n",
    "from weaviate.collections.classes.config import DataType\n",
    "\n",
    "query = \"What is HNSW?\"\n",
    "\n",
    "add_query_relevance = Operations.append_property(\n",
    "    property_name=\"relevance_assessment\",\n",
    "    data_type=DataType.BOOL,\n",
    "    view_properties=[\"content\"],\n",
    "    instruction=f\"\"\"Assess if this document is relevant to the query: {query}.\n",
    "    Return True if the document is relevant to the query, False otherwise.\"\"\",\n",
    ")\n",
    "\n",
    "agent = TransformationAgent(\n",
    "    client=weaviate_client,\n",
    "    collection=\"Blogs\",\n",
    "    operations=[add_query_relevance],\n",
    ")\n",
    "\n",
    "response = agent.update_all()  # The response is a TransformationResponse object\n",
    "\n",
    "agent.get_status(workflow_id=response.workflow_id)  # Use the workflow_id to check the status of each workflow"
   ]
  },
  {
   "cell_type": "code",
   "execution_count": 8,
   "metadata": {},
   "outputs": [
    {
     "data": {
      "text/plain": [
       "{'workflow_id': 'TransformationWorkflow-56c75ebf02bcde53a3dc7bf539912d82',\n",
       " 'status': {'batch_count': 6,\n",
       "  'end_time': '2025-05-22 23:14:19',\n",
       "  'start_time': '2025-05-22 23:12:00',\n",
       "  'state': 'completed',\n",
       "  'total_duration': 139.53496,\n",
       "  'total_items': 1463}}"
      ]
     },
     "execution_count": 8,
     "metadata": {},
     "output_type": "execute_result"
    }
   ],
   "source": [
    "agent.get_status(workflow_id=response.workflow_id)"
   ]
  },
  {
   "cell_type": "code",
   "execution_count": 11,
   "metadata": {},
   "outputs": [
    {
     "name": "stdout",
     "output_type": "stream",
     "text": [
      "138\n"
     ]
    }
   ],
   "source": [
    "response = weaviate_blogs.aggregate.over_all(\n",
    "    return_metrics=weaviate.classes.query.Metrics(\"relevance_assessment\").boolean(total_true=True)\n",
    ")\n",
    "print(response.properties[\"relevance_assessment\"].total_true)"
   ]
  }
 ],
 "metadata": {
  "kernelspec": {
   "display_name": "Python 3",
   "language": "python",
   "name": "python3"
  },
  "language_info": {
   "codemirror_mode": {
    "name": "ipython",
    "version": 3
   },
   "file_extension": ".py",
   "mimetype": "text/x-python",
   "name": "python",
   "nbconvert_exporter": "python",
   "pygments_lexer": "ipython3",
   "version": "3.10.10"
  }
 },
 "nbformat": 4,
 "nbformat_minor": 2
}
